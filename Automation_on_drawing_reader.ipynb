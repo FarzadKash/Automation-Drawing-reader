{
 "cells": [
  {
   "cell_type": "markdown",
   "metadata": {},
   "source": [
    "# Automation on drawing reading\n",
    "\n",
    "**Author:** Farzad Kash \n",
    "\n",
    "**Contact:** Farzad.Kashefi@mattr.com  \n",
    "**Affiliation:** Xerxed by Mattr  \n",
    "**Date:** November 27, 2023\n"
   ]
  },
  {
   "cell_type": "code",
   "execution_count": 1,
   "metadata": {},
   "outputs": [],
   "source": [
    "#import the packages\n",
    "import numpy as np\n",
    "import pandas as pd\n",
    "import matplotlib.pyplot as plt"
   ]
  },
  {
   "cell_type": "code",
   "execution_count": 23,
   "metadata": {},
   "outputs": [
    {
     "data": {
      "text/html": [
       "<div>\n",
       "<style scoped>\n",
       "    .dataframe tbody tr th:only-of-type {\n",
       "        vertical-align: middle;\n",
       "    }\n",
       "\n",
       "    .dataframe tbody tr th {\n",
       "        vertical-align: top;\n",
       "    }\n",
       "\n",
       "    .dataframe thead th {\n",
       "        text-align: right;\n",
       "    }\n",
       "</style>\n",
       "<table border=\"1\" class=\"dataframe\">\n",
       "  <thead>\n",
       "    <tr style=\"text-align: right;\">\n",
       "      <th></th>\n",
       "      <th>SHELL ID#</th>\n",
       "      <th>Molding Date</th>\n",
       "      <th>Inspection date</th>\n",
       "      <th>Sprayer 1 Name</th>\n",
       "      <th>Sprayer 2 Name</th>\n",
       "      <th>Sprayer 3 Name</th>\n",
       "      <th>Resin batch #</th>\n",
       "      <th>Mold station #</th>\n",
       "      <th>Number of ribs</th>\n",
       "      <th>Mold type</th>\n",
       "      <th>Shell diameter</th>\n",
       "      <th>Tank Type</th>\n",
       "      <th>Resin Type</th>\n",
       "      <th>QC Name</th>\n",
       "    </tr>\n",
       "  </thead>\n",
       "  <tbody>\n",
       "    <tr>\n",
       "      <th>0</th>\n",
       "      <td>91007504 A</td>\n",
       "      <td>12/20/22</td>\n",
       "      <td>01/04/23</td>\n",
       "      <td>Jonald</td>\n",
       "      <td>NaN</td>\n",
       "      <td>NaN</td>\n",
       "      <td>NaN</td>\n",
       "      <td>2</td>\n",
       "      <td>6.0</td>\n",
       "      <td>02-Steel</td>\n",
       "      <td>10.0</td>\n",
       "      <td>05-DW-UL/ULC</td>\n",
       "      <td>10-DION 490-27 WINTER</td>\n",
       "      <td>Nandish</td>\n",
       "    </tr>\n",
       "    <tr>\n",
       "      <th>1</th>\n",
       "      <td>91007504 B</td>\n",
       "      <td>12/20/22</td>\n",
       "      <td>01/04/23</td>\n",
       "      <td>NaN</td>\n",
       "      <td>NaN</td>\n",
       "      <td>NaN</td>\n",
       "      <td>NaN</td>\n",
       "      <td>3</td>\n",
       "      <td>6.0</td>\n",
       "      <td>02-Steel</td>\n",
       "      <td>10.0</td>\n",
       "      <td>05-DW-UL/ULC</td>\n",
       "      <td>10-DION 490-27 WINTER</td>\n",
       "      <td>Varghese</td>\n",
       "    </tr>\n",
       "    <tr>\n",
       "      <th>2</th>\n",
       "      <td>91007504 C</td>\n",
       "      <td>12/20/22</td>\n",
       "      <td>01/04/23</td>\n",
       "      <td>NaN</td>\n",
       "      <td>NaN</td>\n",
       "      <td>NaN</td>\n",
       "      <td>NaN</td>\n",
       "      <td>5</td>\n",
       "      <td>9.0</td>\n",
       "      <td>02-Steel</td>\n",
       "      <td>10.0</td>\n",
       "      <td>05-DW-UL/ULC</td>\n",
       "      <td>10-DION 490-27 WINTER</td>\n",
       "      <td>Varghese</td>\n",
       "    </tr>\n",
       "    <tr>\n",
       "      <th>3</th>\n",
       "      <td>91007503 B</td>\n",
       "      <td>12/19/22</td>\n",
       "      <td>01/04/23</td>\n",
       "      <td>Tuyen</td>\n",
       "      <td>Jonald</td>\n",
       "      <td>NaN</td>\n",
       "      <td>NaN</td>\n",
       "      <td>3</td>\n",
       "      <td>6.0</td>\n",
       "      <td>02-Steel</td>\n",
       "      <td>10.0</td>\n",
       "      <td>05-DW-UL/ULC</td>\n",
       "      <td>10-DION 490-27 WINTER</td>\n",
       "      <td>Edwin</td>\n",
       "    </tr>\n",
       "    <tr>\n",
       "      <th>4</th>\n",
       "      <td>91007502 B</td>\n",
       "      <td>12/21/22</td>\n",
       "      <td>01/04/23</td>\n",
       "      <td>Inderjeet</td>\n",
       "      <td>Mark</td>\n",
       "      <td>NaN</td>\n",
       "      <td>NaN</td>\n",
       "      <td>4</td>\n",
       "      <td>10.0</td>\n",
       "      <td>02-Steel</td>\n",
       "      <td>10.0</td>\n",
       "      <td>05-DW-UL/ULC</td>\n",
       "      <td>10-DION 490-27 WINTER</td>\n",
       "      <td>Edwin</td>\n",
       "    </tr>\n",
       "  </tbody>\n",
       "</table>\n",
       "</div>"
      ],
      "text/plain": [
       "    SHELL ID# Molding Date Inspection date Sprayer 1 Name Sprayer 2 Name  \\\n",
       "0  91007504 A     12/20/22        01/04/23         Jonald            NaN   \n",
       "1  91007504 B     12/20/22        01/04/23            NaN            NaN   \n",
       "2  91007504 C     12/20/22        01/04/23            NaN            NaN   \n",
       "3  91007503 B     12/19/22        01/04/23          Tuyen         Jonald   \n",
       "4  91007502 B     12/21/22        01/04/23      Inderjeet           Mark   \n",
       "\n",
       "  Sprayer 3 Name Resin batch # Mold station #  Number of ribs Mold type  \\\n",
       "0            NaN           NaN              2             6.0  02-Steel   \n",
       "1            NaN           NaN              3             6.0  02-Steel   \n",
       "2            NaN           NaN              5             9.0  02-Steel   \n",
       "3            NaN           NaN              3             6.0  02-Steel   \n",
       "4            NaN           NaN              4            10.0  02-Steel   \n",
       "\n",
       "   Shell diameter     Tank Type             Resin Type   QC Name  \n",
       "0            10.0  05-DW-UL/ULC  10-DION 490-27 WINTER   Nandish  \n",
       "1            10.0  05-DW-UL/ULC  10-DION 490-27 WINTER  Varghese  \n",
       "2            10.0  05-DW-UL/ULC  10-DION 490-27 WINTER  Varghese  \n",
       "3            10.0  05-DW-UL/ULC  10-DION 490-27 WINTER     Edwin  \n",
       "4            10.0  05-DW-UL/ULC  10-DION 490-27 WINTER     Edwin  "
      ]
     },
     "execution_count": 23,
     "metadata": {},
     "output_type": "execute_result"
    }
   ],
   "source": [
    "Edmonton_data = pd.read_clipboard()\n",
    "Edmonton_data.head()"
   ]
  },
  {
   "cell_type": "code",
   "execution_count": 25,
   "metadata": {},
   "outputs": [
    {
     "data": {
      "text/plain": [
       "(2230, 14)"
      ]
     },
     "execution_count": 25,
     "metadata": {},
     "output_type": "execute_result"
    }
   ],
   "source": [
    "Edmonton_data.shape"
   ]
  },
  {
   "cell_type": "code",
   "execution_count": 26,
   "metadata": {},
   "outputs": [
    {
     "data": {
      "text/plain": [
       "Index(['SHELL ID#', 'Molding Date', 'Inspection date', 'Sprayer 1 Name',\n",
       "       'Sprayer 2 Name', 'Sprayer 3 Name', 'Resin batch #', 'Mold station #',\n",
       "       'Number of ribs', 'Mold type', 'Shell diameter', 'Tank Type',\n",
       "       'Resin Type', 'QC Name'],\n",
       "      dtype='object')"
      ]
     },
     "execution_count": 26,
     "metadata": {},
     "output_type": "execute_result"
    }
   ],
   "source": [
    "Edmonton_data.columns"
   ]
  },
  {
   "cell_type": "code",
   "execution_count": 27,
   "metadata": {},
   "outputs": [
    {
     "data": {
      "text/html": [
       "<div>\n",
       "<style scoped>\n",
       "    .dataframe tbody tr th:only-of-type {\n",
       "        vertical-align: middle;\n",
       "    }\n",
       "\n",
       "    .dataframe tbody tr th {\n",
       "        vertical-align: top;\n",
       "    }\n",
       "\n",
       "    .dataframe thead th {\n",
       "        text-align: right;\n",
       "    }\n",
       "</style>\n",
       "<table border=\"1\" class=\"dataframe\">\n",
       "  <thead>\n",
       "    <tr style=\"text-align: right;\">\n",
       "      <th></th>\n",
       "      <th>Number of ribs</th>\n",
       "      <th>Shell diameter</th>\n",
       "    </tr>\n",
       "  </thead>\n",
       "  <tbody>\n",
       "    <tr>\n",
       "      <th>count</th>\n",
       "      <td>2218.000000</td>\n",
       "      <td>2227.000000</td>\n",
       "    </tr>\n",
       "    <tr>\n",
       "      <th>mean</th>\n",
       "      <td>8.513526</td>\n",
       "      <td>9.429726</td>\n",
       "    </tr>\n",
       "    <tr>\n",
       "      <th>std</th>\n",
       "      <td>3.120645</td>\n",
       "      <td>1.162408</td>\n",
       "    </tr>\n",
       "    <tr>\n",
       "      <th>min</th>\n",
       "      <td>0.000000</td>\n",
       "      <td>4.000000</td>\n",
       "    </tr>\n",
       "    <tr>\n",
       "      <th>25%</th>\n",
       "      <td>6.000000</td>\n",
       "      <td>10.000000</td>\n",
       "    </tr>\n",
       "    <tr>\n",
       "      <th>50%</th>\n",
       "      <td>9.000000</td>\n",
       "      <td>10.000000</td>\n",
       "    </tr>\n",
       "    <tr>\n",
       "      <th>75%</th>\n",
       "      <td>11.000000</td>\n",
       "      <td>10.000000</td>\n",
       "    </tr>\n",
       "    <tr>\n",
       "      <th>max</th>\n",
       "      <td>16.000000</td>\n",
       "      <td>10.000000</td>\n",
       "    </tr>\n",
       "  </tbody>\n",
       "</table>\n",
       "</div>"
      ],
      "text/plain": [
       "       Number of ribs  Shell diameter\n",
       "count     2218.000000     2227.000000\n",
       "mean         8.513526        9.429726\n",
       "std          3.120645        1.162408\n",
       "min          0.000000        4.000000\n",
       "25%          6.000000       10.000000\n",
       "50%          9.000000       10.000000\n",
       "75%         11.000000       10.000000\n",
       "max         16.000000       10.000000"
      ]
     },
     "execution_count": 27,
     "metadata": {},
     "output_type": "execute_result"
    }
   ],
   "source": [
    "Edmonton_data.describe()"
   ]
  },
  {
   "cell_type": "code",
   "execution_count": 28,
   "metadata": {},
   "outputs": [
    {
     "name": "stdout",
     "output_type": "stream",
     "text": [
      "<class 'pandas.core.frame.DataFrame'>\n",
      "RangeIndex: 2230 entries, 0 to 2229\n",
      "Data columns (total 14 columns):\n",
      " #   Column           Non-Null Count  Dtype  \n",
      "---  ------           --------------  -----  \n",
      " 0   SHELL ID#        2230 non-null   object \n",
      " 1   Molding Date     2209 non-null   object \n",
      " 2   Inspection date  2229 non-null   object \n",
      " 3   Sprayer 1 Name   2191 non-null   object \n",
      " 4   Sprayer 2 Name   231 non-null    object \n",
      " 5   Sprayer 3 Name   4 non-null      object \n",
      " 6   Resin batch #    1 non-null      object \n",
      " 7   Mold station #   2183 non-null   object \n",
      " 8   Number of ribs   2218 non-null   float64\n",
      " 9   Mold type        2229 non-null   object \n",
      " 10  Shell diameter   2227 non-null   float64\n",
      " 11  Tank Type        2229 non-null   object \n",
      " 12  Resin Type       2230 non-null   object \n",
      " 13  QC Name          2229 non-null   object \n",
      "dtypes: float64(2), object(12)\n",
      "memory usage: 244.0+ KB\n"
     ]
    }
   ],
   "source": [
    "Edmonton_data.info()"
   ]
  },
  {
   "cell_type": "code",
   "execution_count": 36,
   "metadata": {},
   "outputs": [],
   "source": [
    "def count_sprayers(row):\n",
    "    count = sum(1 for sprayer in row[['Sprayer 1 Name', 'Sprayer 2 Name', 'Sprayer 3 Name']])\n",
    "    return count # Assuming each non-null sprayer contributes 2 to the total count\n",
    "\n",
    "# Apply the function to each row to get the total number of sprayers worked\n",
    "Edmonton_data['Total Sprayers Worked'] = Edmonton_data.apply(count_sprayers,axis=1)\n",
    "\n",
    "#Edmonton_data['Sprayer 1 Name','Sprayer 2 Name', 'Sprayer 3 Name','Total Sprayers Worked']"
   ]
  },
  {
   "cell_type": "code",
   "execution_count": 39,
   "metadata": {},
   "outputs": [
    {
     "data": {
      "text/plain": [
       "(2230, 15)"
      ]
     },
     "execution_count": 39,
     "metadata": {},
     "output_type": "execute_result"
    }
   ],
   "source": [
    "Edmonton_data.shape"
   ]
  },
  {
   "cell_type": "code",
   "execution_count": null,
   "metadata": {},
   "outputs": [],
   "source": []
  },
  {
   "cell_type": "code",
   "execution_count": 38,
   "metadata": {},
   "outputs": [
    {
     "ename": "KeyError",
     "evalue": "('Sprayer 1 Name', 'Sprayer 2 Name', 'Sprayer 3 Name')",
     "output_type": "error",
     "traceback": [
      "\u001b[1;31m---------------------------------------------------------------------------\u001b[0m",
      "\u001b[1;31mKeyError\u001b[0m                                  Traceback (most recent call last)",
      "File \u001b[1;32mc:\\Users\\farzad.kashefini\\AppData\\Local\\miniconda3\\envs\\myenv\\Lib\\site-packages\\pandas\\core\\indexes\\base.py:3790\u001b[0m, in \u001b[0;36mIndex.get_loc\u001b[1;34m(self, key)\u001b[0m\n\u001b[0;32m   3789\u001b[0m \u001b[39mtry\u001b[39;00m:\n\u001b[1;32m-> 3790\u001b[0m     \u001b[39mreturn\u001b[39;00m \u001b[39mself\u001b[39m\u001b[39m.\u001b[39m_engine\u001b[39m.\u001b[39mget_loc(casted_key)\n\u001b[0;32m   3791\u001b[0m \u001b[39mexcept\u001b[39;00m \u001b[39mKeyError\u001b[39;00m \u001b[39mas\u001b[39;00m err:\n",
      "File \u001b[1;32mindex.pyx:152\u001b[0m, in \u001b[0;36mpandas._libs.index.IndexEngine.get_loc\u001b[1;34m()\u001b[0m\n",
      "File \u001b[1;32mindex.pyx:181\u001b[0m, in \u001b[0;36mpandas._libs.index.IndexEngine.get_loc\u001b[1;34m()\u001b[0m\n",
      "File \u001b[1;32mpandas\\_libs\\hashtable_class_helper.pxi:7080\u001b[0m, in \u001b[0;36mpandas._libs.hashtable.PyObjectHashTable.get_item\u001b[1;34m()\u001b[0m\n",
      "File \u001b[1;32mpandas\\_libs\\hashtable_class_helper.pxi:7088\u001b[0m, in \u001b[0;36mpandas._libs.hashtable.PyObjectHashTable.get_item\u001b[1;34m()\u001b[0m\n",
      "\u001b[1;31mKeyError\u001b[0m: ('Sprayer 1 Name', 'Sprayer 2 Name', 'Sprayer 3 Name')",
      "\nThe above exception was the direct cause of the following exception:\n",
      "\u001b[1;31mKeyError\u001b[0m                                  Traceback (most recent call last)",
      "\u001b[1;32mc:\\Users\\farzad.kashefini\\OneDrive - Mattr Infratech\\Projects\\Automated Drawing reader\\Automation-Drawing-reader\\Automation_on_drawing_reader.ipynb Cell 10\u001b[0m line \u001b[0;36m1\n\u001b[1;32m----> <a href='vscode-notebook-cell:/c%3A/Users/farzad.kashefini/OneDrive%20-%20Mattr%20Infratech/Projects/Automated%20Drawing%20reader/Automation-Drawing-reader/Automation_on_drawing_reader.ipynb#X13sZmlsZQ%3D%3D?line=0'>1</a>\u001b[0m Edmonton_data[\u001b[39m'\u001b[39m\u001b[39mSprayer 1 Name\u001b[39m\u001b[39m'\u001b[39m,\n\u001b[0;32m      <a href='vscode-notebook-cell:/c%3A/Users/farzad.kashefini/OneDrive%20-%20Mattr%20Infratech/Projects/Automated%20Drawing%20reader/Automation-Drawing-reader/Automation_on_drawing_reader.ipynb#X13sZmlsZQ%3D%3D?line=1'>2</a>\u001b[0m        \u001b[39m'\u001b[39m\u001b[39mSprayer 2 Name\u001b[39m\u001b[39m'\u001b[39m, \u001b[39m'\u001b[39m\u001b[39mSprayer 3 Name\u001b[39m\u001b[39m'\u001b[39m]\n",
      "File \u001b[1;32mc:\\Users\\farzad.kashefini\\AppData\\Local\\miniconda3\\envs\\myenv\\Lib\\site-packages\\pandas\\core\\frame.py:3896\u001b[0m, in \u001b[0;36mDataFrame.__getitem__\u001b[1;34m(self, key)\u001b[0m\n\u001b[0;32m   3894\u001b[0m \u001b[39mif\u001b[39;00m \u001b[39mself\u001b[39m\u001b[39m.\u001b[39mcolumns\u001b[39m.\u001b[39mnlevels \u001b[39m>\u001b[39m \u001b[39m1\u001b[39m:\n\u001b[0;32m   3895\u001b[0m     \u001b[39mreturn\u001b[39;00m \u001b[39mself\u001b[39m\u001b[39m.\u001b[39m_getitem_multilevel(key)\n\u001b[1;32m-> 3896\u001b[0m indexer \u001b[39m=\u001b[39m \u001b[39mself\u001b[39m\u001b[39m.\u001b[39mcolumns\u001b[39m.\u001b[39mget_loc(key)\n\u001b[0;32m   3897\u001b[0m \u001b[39mif\u001b[39;00m is_integer(indexer):\n\u001b[0;32m   3898\u001b[0m     indexer \u001b[39m=\u001b[39m [indexer]\n",
      "File \u001b[1;32mc:\\Users\\farzad.kashefini\\AppData\\Local\\miniconda3\\envs\\myenv\\Lib\\site-packages\\pandas\\core\\indexes\\base.py:3797\u001b[0m, in \u001b[0;36mIndex.get_loc\u001b[1;34m(self, key)\u001b[0m\n\u001b[0;32m   3792\u001b[0m     \u001b[39mif\u001b[39;00m \u001b[39misinstance\u001b[39m(casted_key, \u001b[39mslice\u001b[39m) \u001b[39mor\u001b[39;00m (\n\u001b[0;32m   3793\u001b[0m         \u001b[39misinstance\u001b[39m(casted_key, abc\u001b[39m.\u001b[39mIterable)\n\u001b[0;32m   3794\u001b[0m         \u001b[39mand\u001b[39;00m \u001b[39many\u001b[39m(\u001b[39misinstance\u001b[39m(x, \u001b[39mslice\u001b[39m) \u001b[39mfor\u001b[39;00m x \u001b[39min\u001b[39;00m casted_key)\n\u001b[0;32m   3795\u001b[0m     ):\n\u001b[0;32m   3796\u001b[0m         \u001b[39mraise\u001b[39;00m InvalidIndexError(key)\n\u001b[1;32m-> 3797\u001b[0m     \u001b[39mraise\u001b[39;00m \u001b[39mKeyError\u001b[39;00m(key) \u001b[39mfrom\u001b[39;00m \u001b[39merr\u001b[39;00m\n\u001b[0;32m   3798\u001b[0m \u001b[39mexcept\u001b[39;00m \u001b[39mTypeError\u001b[39;00m:\n\u001b[0;32m   3799\u001b[0m     \u001b[39m# If we have a listlike key, _check_indexing_error will raise\u001b[39;00m\n\u001b[0;32m   3800\u001b[0m     \u001b[39m#  InvalidIndexError. Otherwise we fall through and re-raise\u001b[39;00m\n\u001b[0;32m   3801\u001b[0m     \u001b[39m#  the TypeError.\u001b[39;00m\n\u001b[0;32m   3802\u001b[0m     \u001b[39mself\u001b[39m\u001b[39m.\u001b[39m_check_indexing_error(key)\n",
      "\u001b[1;31mKeyError\u001b[0m: ('Sprayer 1 Name', 'Sprayer 2 Name', 'Sprayer 3 Name')"
     ]
    }
   ],
   "source": [
    "Edmonton_data['Sprayer 1 Name',\n",
    "       'Sprayer 2 Name', 'Sprayer 3 Name']"
   ]
  },
  {
   "cell_type": "code",
   "execution_count": null,
   "metadata": {},
   "outputs": [],
   "source": [
    "Edmonton_data_original = Edmonton_data.copy()\n",
    "Edmonton_data = Edmonton_data['SHELL ID#', 'Molding Date', 'Inspection date', 'Sprayer 1 Name',\n",
    "       'Sprayer 2 Name', 'Sprayer 3 Name', 'Resin batch #', 'Mold station #',\n",
    "       'Number of ribs', 'Mold type', 'Shell diameter', 'Tank Type',\n",
    "       'Resin Type']"
   ]
  }
 ],
 "metadata": {
  "kernelspec": {
   "display_name": "myenv",
   "language": "python",
   "name": "python3"
  },
  "language_info": {
   "codemirror_mode": {
    "name": "ipython",
    "version": 3
   },
   "file_extension": ".py",
   "mimetype": "text/x-python",
   "name": "python",
   "nbconvert_exporter": "python",
   "pygments_lexer": "ipython3",
   "version": "3.11.5"
  }
 },
 "nbformat": 4,
 "nbformat_minor": 2
}
