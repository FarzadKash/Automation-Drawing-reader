{
 "cells": [
  {
   "cell_type": "markdown",
   "metadata": {},
   "source": [
    "# Automation on drawing reading\n",
    "\n",
    "**Author:** Farzad Kash \n",
    "\n",
    "**Contact:** Farzad.Kashefi@mattr.com  \n",
    "**Affiliation:** Xerxed by Mattr  \n",
    "**Date:** November 27, 2023\n"
   ]
  },
  {
   "cell_type": "code",
   "execution_count": 159,
   "metadata": {},
   "outputs": [],
   "source": [
    "#import the packages\n",
    "import numpy as np\n",
    "import pandas as pd\n",
    "import matplotlib.pyplot as plt\n",
    "import seaborn as sns"
   ]
  },
  {
   "cell_type": "code",
   "execution_count": 23,
   "metadata": {},
   "outputs": [
    {
     "data": {
      "text/html": [
       "<div>\n",
       "<style scoped>\n",
       "    .dataframe tbody tr th:only-of-type {\n",
       "        vertical-align: middle;\n",
       "    }\n",
       "\n",
       "    .dataframe tbody tr th {\n",
       "        vertical-align: top;\n",
       "    }\n",
       "\n",
       "    .dataframe thead th {\n",
       "        text-align: right;\n",
       "    }\n",
       "</style>\n",
       "<table border=\"1\" class=\"dataframe\">\n",
       "  <thead>\n",
       "    <tr style=\"text-align: right;\">\n",
       "      <th></th>\n",
       "      <th>SHELL ID#</th>\n",
       "      <th>Molding Date</th>\n",
       "      <th>Inspection date</th>\n",
       "      <th>Sprayer 1 Name</th>\n",
       "      <th>Sprayer 2 Name</th>\n",
       "      <th>Sprayer 3 Name</th>\n",
       "      <th>Resin batch #</th>\n",
       "      <th>Mold station #</th>\n",
       "      <th>Number of ribs</th>\n",
       "      <th>Mold type</th>\n",
       "      <th>Shell diameter</th>\n",
       "      <th>Tank Type</th>\n",
       "      <th>Resin Type</th>\n",
       "      <th>QC Name</th>\n",
       "    </tr>\n",
       "  </thead>\n",
       "  <tbody>\n",
       "    <tr>\n",
       "      <th>0</th>\n",
       "      <td>91007504 A</td>\n",
       "      <td>12/20/22</td>\n",
       "      <td>01/04/23</td>\n",
       "      <td>Jonald</td>\n",
       "      <td>NaN</td>\n",
       "      <td>NaN</td>\n",
       "      <td>NaN</td>\n",
       "      <td>2</td>\n",
       "      <td>6.0</td>\n",
       "      <td>02-Steel</td>\n",
       "      <td>10.0</td>\n",
       "      <td>05-DW-UL/ULC</td>\n",
       "      <td>10-DION 490-27 WINTER</td>\n",
       "      <td>Nandish</td>\n",
       "    </tr>\n",
       "    <tr>\n",
       "      <th>1</th>\n",
       "      <td>91007504 B</td>\n",
       "      <td>12/20/22</td>\n",
       "      <td>01/04/23</td>\n",
       "      <td>NaN</td>\n",
       "      <td>NaN</td>\n",
       "      <td>NaN</td>\n",
       "      <td>NaN</td>\n",
       "      <td>3</td>\n",
       "      <td>6.0</td>\n",
       "      <td>02-Steel</td>\n",
       "      <td>10.0</td>\n",
       "      <td>05-DW-UL/ULC</td>\n",
       "      <td>10-DION 490-27 WINTER</td>\n",
       "      <td>Varghese</td>\n",
       "    </tr>\n",
       "    <tr>\n",
       "      <th>2</th>\n",
       "      <td>91007504 C</td>\n",
       "      <td>12/20/22</td>\n",
       "      <td>01/04/23</td>\n",
       "      <td>NaN</td>\n",
       "      <td>NaN</td>\n",
       "      <td>NaN</td>\n",
       "      <td>NaN</td>\n",
       "      <td>5</td>\n",
       "      <td>9.0</td>\n",
       "      <td>02-Steel</td>\n",
       "      <td>10.0</td>\n",
       "      <td>05-DW-UL/ULC</td>\n",
       "      <td>10-DION 490-27 WINTER</td>\n",
       "      <td>Varghese</td>\n",
       "    </tr>\n",
       "    <tr>\n",
       "      <th>3</th>\n",
       "      <td>91007503 B</td>\n",
       "      <td>12/19/22</td>\n",
       "      <td>01/04/23</td>\n",
       "      <td>Tuyen</td>\n",
       "      <td>Jonald</td>\n",
       "      <td>NaN</td>\n",
       "      <td>NaN</td>\n",
       "      <td>3</td>\n",
       "      <td>6.0</td>\n",
       "      <td>02-Steel</td>\n",
       "      <td>10.0</td>\n",
       "      <td>05-DW-UL/ULC</td>\n",
       "      <td>10-DION 490-27 WINTER</td>\n",
       "      <td>Edwin</td>\n",
       "    </tr>\n",
       "    <tr>\n",
       "      <th>4</th>\n",
       "      <td>91007502 B</td>\n",
       "      <td>12/21/22</td>\n",
       "      <td>01/04/23</td>\n",
       "      <td>Inderjeet</td>\n",
       "      <td>Mark</td>\n",
       "      <td>NaN</td>\n",
       "      <td>NaN</td>\n",
       "      <td>4</td>\n",
       "      <td>10.0</td>\n",
       "      <td>02-Steel</td>\n",
       "      <td>10.0</td>\n",
       "      <td>05-DW-UL/ULC</td>\n",
       "      <td>10-DION 490-27 WINTER</td>\n",
       "      <td>Edwin</td>\n",
       "    </tr>\n",
       "  </tbody>\n",
       "</table>\n",
       "</div>"
      ],
      "text/plain": [
       "    SHELL ID# Molding Date Inspection date Sprayer 1 Name Sprayer 2 Name  \\\n",
       "0  91007504 A     12/20/22        01/04/23         Jonald            NaN   \n",
       "1  91007504 B     12/20/22        01/04/23            NaN            NaN   \n",
       "2  91007504 C     12/20/22        01/04/23            NaN            NaN   \n",
       "3  91007503 B     12/19/22        01/04/23          Tuyen         Jonald   \n",
       "4  91007502 B     12/21/22        01/04/23      Inderjeet           Mark   \n",
       "\n",
       "  Sprayer 3 Name Resin batch # Mold station #  Number of ribs Mold type  \\\n",
       "0            NaN           NaN              2             6.0  02-Steel   \n",
       "1            NaN           NaN              3             6.0  02-Steel   \n",
       "2            NaN           NaN              5             9.0  02-Steel   \n",
       "3            NaN           NaN              3             6.0  02-Steel   \n",
       "4            NaN           NaN              4            10.0  02-Steel   \n",
       "\n",
       "   Shell diameter     Tank Type             Resin Type   QC Name  \n",
       "0            10.0  05-DW-UL/ULC  10-DION 490-27 WINTER   Nandish  \n",
       "1            10.0  05-DW-UL/ULC  10-DION 490-27 WINTER  Varghese  \n",
       "2            10.0  05-DW-UL/ULC  10-DION 490-27 WINTER  Varghese  \n",
       "3            10.0  05-DW-UL/ULC  10-DION 490-27 WINTER     Edwin  \n",
       "4            10.0  05-DW-UL/ULC  10-DION 490-27 WINTER     Edwin  "
      ]
     },
     "execution_count": 23,
     "metadata": {},
     "output_type": "execute_result"
    }
   ],
   "source": [
    "Edmonton_data = pd.read_clipboard()\n",
    "Edmonton_data.head()"
   ]
  },
  {
   "cell_type": "code",
   "execution_count": 25,
   "metadata": {},
   "outputs": [
    {
     "data": {
      "text/plain": [
       "(2230, 14)"
      ]
     },
     "execution_count": 25,
     "metadata": {},
     "output_type": "execute_result"
    }
   ],
   "source": [
    "Edmonton_data.shape"
   ]
  },
  {
   "cell_type": "code",
   "execution_count": 26,
   "metadata": {},
   "outputs": [
    {
     "data": {
      "text/plain": [
       "Index(['SHELL ID#', 'Molding Date', 'Inspection date', 'Sprayer 1 Name',\n",
       "       'Sprayer 2 Name', 'Sprayer 3 Name', 'Resin batch #', 'Mold station #',\n",
       "       'Number of ribs', 'Mold type', 'Shell diameter', 'Tank Type',\n",
       "       'Resin Type', 'QC Name'],\n",
       "      dtype='object')"
      ]
     },
     "execution_count": 26,
     "metadata": {},
     "output_type": "execute_result"
    }
   ],
   "source": [
    "Edmonton_data.columns"
   ]
  },
  {
   "cell_type": "code",
   "execution_count": 27,
   "metadata": {},
   "outputs": [
    {
     "data": {
      "text/html": [
       "<div>\n",
       "<style scoped>\n",
       "    .dataframe tbody tr th:only-of-type {\n",
       "        vertical-align: middle;\n",
       "    }\n",
       "\n",
       "    .dataframe tbody tr th {\n",
       "        vertical-align: top;\n",
       "    }\n",
       "\n",
       "    .dataframe thead th {\n",
       "        text-align: right;\n",
       "    }\n",
       "</style>\n",
       "<table border=\"1\" class=\"dataframe\">\n",
       "  <thead>\n",
       "    <tr style=\"text-align: right;\">\n",
       "      <th></th>\n",
       "      <th>Number of ribs</th>\n",
       "      <th>Shell diameter</th>\n",
       "    </tr>\n",
       "  </thead>\n",
       "  <tbody>\n",
       "    <tr>\n",
       "      <th>count</th>\n",
       "      <td>2218.000000</td>\n",
       "      <td>2227.000000</td>\n",
       "    </tr>\n",
       "    <tr>\n",
       "      <th>mean</th>\n",
       "      <td>8.513526</td>\n",
       "      <td>9.429726</td>\n",
       "    </tr>\n",
       "    <tr>\n",
       "      <th>std</th>\n",
       "      <td>3.120645</td>\n",
       "      <td>1.162408</td>\n",
       "    </tr>\n",
       "    <tr>\n",
       "      <th>min</th>\n",
       "      <td>0.000000</td>\n",
       "      <td>4.000000</td>\n",
       "    </tr>\n",
       "    <tr>\n",
       "      <th>25%</th>\n",
       "      <td>6.000000</td>\n",
       "      <td>10.000000</td>\n",
       "    </tr>\n",
       "    <tr>\n",
       "      <th>50%</th>\n",
       "      <td>9.000000</td>\n",
       "      <td>10.000000</td>\n",
       "    </tr>\n",
       "    <tr>\n",
       "      <th>75%</th>\n",
       "      <td>11.000000</td>\n",
       "      <td>10.000000</td>\n",
       "    </tr>\n",
       "    <tr>\n",
       "      <th>max</th>\n",
       "      <td>16.000000</td>\n",
       "      <td>10.000000</td>\n",
       "    </tr>\n",
       "  </tbody>\n",
       "</table>\n",
       "</div>"
      ],
      "text/plain": [
       "       Number of ribs  Shell diameter\n",
       "count     2218.000000     2227.000000\n",
       "mean         8.513526        9.429726\n",
       "std          3.120645        1.162408\n",
       "min          0.000000        4.000000\n",
       "25%          6.000000       10.000000\n",
       "50%          9.000000       10.000000\n",
       "75%         11.000000       10.000000\n",
       "max         16.000000       10.000000"
      ]
     },
     "execution_count": 27,
     "metadata": {},
     "output_type": "execute_result"
    }
   ],
   "source": [
    "Edmonton_data.describe()"
   ]
  },
  {
   "cell_type": "code",
   "execution_count": 28,
   "metadata": {},
   "outputs": [
    {
     "name": "stdout",
     "output_type": "stream",
     "text": [
      "<class 'pandas.core.frame.DataFrame'>\n",
      "RangeIndex: 2230 entries, 0 to 2229\n",
      "Data columns (total 14 columns):\n",
      " #   Column           Non-Null Count  Dtype  \n",
      "---  ------           --------------  -----  \n",
      " 0   SHELL ID#        2230 non-null   object \n",
      " 1   Molding Date     2209 non-null   object \n",
      " 2   Inspection date  2229 non-null   object \n",
      " 3   Sprayer 1 Name   2191 non-null   object \n",
      " 4   Sprayer 2 Name   231 non-null    object \n",
      " 5   Sprayer 3 Name   4 non-null      object \n",
      " 6   Resin batch #    1 non-null      object \n",
      " 7   Mold station #   2183 non-null   object \n",
      " 8   Number of ribs   2218 non-null   float64\n",
      " 9   Mold type        2229 non-null   object \n",
      " 10  Shell diameter   2227 non-null   float64\n",
      " 11  Tank Type        2229 non-null   object \n",
      " 12  Resin Type       2230 non-null   object \n",
      " 13  QC Name          2229 non-null   object \n",
      "dtypes: float64(2), object(12)\n",
      "memory usage: 244.0+ KB\n"
     ]
    }
   ],
   "source": [
    "Edmonton_data.info()"
   ]
  },
  {
   "cell_type": "code",
   "execution_count": 44,
   "metadata": {},
   "outputs": [],
   "source": [
    "# adding the column for number of sprayers worked on tank\n",
    "def count_sprayers(row):\n",
    "    count = sum(1 for sprayer in row[['Sprayer 1 Name', 'Sprayer 2 Name', 'Sprayer 3 Name']]if pd.notnull(sprayer))\n",
    "    return count \n",
    "\n",
    "# Apply the function to each row to get the total number of sprayers worked\n",
    "Edmonton_data['Total Sprayers Worked'] = Edmonton_data.apply(count_sprayers,axis=1)\n"
   ]
  },
  {
   "cell_type": "code",
   "execution_count": 45,
   "metadata": {},
   "outputs": [
    {
     "data": {
      "text/plain": [
       "count    2230.000000\n",
       "mean        1.087892\n",
       "std         0.342040\n",
       "min         0.000000\n",
       "25%         1.000000\n",
       "50%         1.000000\n",
       "75%         1.000000\n",
       "max         3.000000\n",
       "Name: Total Sprayers Worked, dtype: float64"
      ]
     },
     "execution_count": 45,
     "metadata": {},
     "output_type": "execute_result"
    }
   ],
   "source": [
    "Edmonton_data[\"Total Sprayers Worked\"].describe()"
   ]
  },
  {
   "cell_type": "code",
   "execution_count": 58,
   "metadata": {},
   "outputs": [
    {
     "data": {
      "image/png": "[encoded data removed]",
      "text/plain": [
       "<Figure size 640x480 with 1 Axes>"
      ]
     },
     "metadata": {},
     "output_type": "display_data"
    }
   ],
   "source": [
    "bins = np.arange(Edmonton_data[\"Total Sprayers Worked\"].min(), Edmonton_data[\"Total Sprayers Worked\"].max() + 1.5) - 0.5\n",
    "plt.hist(Edmonton_data[\"Total Sprayers Worked\"], bins=bins, edgecolor='black')\n",
    "#plt.yscale('log')\n",
    "plt.xticks(np.arange(Edmonton_data[\"Total Sprayers Worked\"].min(), Edmonton_data[\"Total Sprayers Worked\"].max() + 1, 1))\n",
    "\n",
    "plt.xlabel(\"Total number of Sprayers worked\")\n",
    "plt.ylabel(\"Count \")\n",
    "plt.title(\"Histogram of Total Sprayers Worked\")\n",
    "plt.show()"
   ]
  },
  {
   "cell_type": "code",
   "execution_count": 56,
   "metadata": {},
   "outputs": [
    {
     "data": {
      "image/png": "[encoded data removed]",
      "text/plain": [
       "<Figure size 640x480 with 1 Axes>"
      ]
     },
     "metadata": {},
     "output_type": "display_data"
    }
   ],
   "source": [
    "bins = np.arange(Edmonton_data[\"Total Sprayers Worked\"].min(), Edmonton_data[\"Total Sprayers Worked\"].max() + 1.5) - 0.5\n",
    "plt.hist(Edmonton_data[\"Total Sprayers Worked\"], bins=bins, edgecolor='black')\n",
    "plt.yscale('log')\n",
    "plt.xticks(np.arange(Edmonton_data[\"Total Sprayers Worked\"].min(), Edmonton_data[\"Total Sprayers Worked\"].max() + 1, 1))\n",
    "\n",
    "plt.xlabel(\"Total number of Sprayers worked\")\n",
    "plt.ylabel(\"Count (log scale)\")\n",
    "plt.title(\"Histogram of Total Sprayers Worked\")\n",
    "plt.show()"
   ]
  },
  {
   "cell_type": "code",
   "execution_count": 40,
   "metadata": {},
   "outputs": [
    {
     "data": {
      "text/plain": [
       "(2230, 15)"
      ]
     },
     "execution_count": 40,
     "metadata": {},
     "output_type": "execute_result"
    }
   ],
   "source": [
    "Edmonton_data.shape"
   ]
  },
  {
   "cell_type": "code",
   "execution_count": 61,
   "metadata": {},
   "outputs": [
    {
     "data": {
      "text/plain": [
       "Resin Type\n",
       "09- DION 490-28 SUMMER    1100\n",
       "10-DION 490-27 WINTER      958\n",
       "AOC RESIN                  144\n",
       "09-DION 490-28 SUMMER       25\n",
       "08- NSF RESIN                2\n",
       "05-DW-UL/ULC                 1\n",
       "Name: count, dtype: int64"
      ]
     },
     "execution_count": 61,
     "metadata": {},
     "output_type": "execute_result"
    }
   ],
   "source": [
    "# checking the distribution of Resin Type:\n",
    "\n",
    "Edmonton_data[\"Resin Type\"].value_counts()"
   ]
  },
  {
   "cell_type": "markdown",
   "metadata": {},
   "source": [
    "there are multiplication for \"09- DION 490-28 SUMMER\" and \"09-DION 490-28 SUMMER\" than needs to be combined.\n"
   ]
  },
  {
   "cell_type": "code",
   "execution_count": 68,
   "metadata": {},
   "outputs": [],
   "source": [
    "Edmonton_data[\"Resin Type\"].replace(to_replace={\"09-DION 490-28 SUMMER\": \"09- DION 490-28 SUMMER\"}, inplace=True)"
   ]
  },
  {
   "cell_type": "code",
   "execution_count": 69,
   "metadata": {},
   "outputs": [
    {
     "data": {
      "text/plain": [
       "Resin Type\n",
       "09- DION 490-28 SUMMER    1125\n",
       "10-DION 490-27 WINTER      958\n",
       "AOC RESIN                  144\n",
       "08- NSF RESIN                2\n",
       "05-DW-UL/ULC                 1\n",
       "Name: count, dtype: int64"
      ]
     },
     "execution_count": 69,
     "metadata": {},
     "output_type": "execute_result"
    }
   ],
   "source": [
    "Edmonton_data[\"Resin Type\"].value_counts()"
   ]
  },
  {
   "cell_type": "code",
   "execution_count": 71,
   "metadata": {},
   "outputs": [
    {
     "data": {
      "text/html": [
       "<div>\n",
       "<style scoped>\n",
       "    .dataframe tbody tr th:only-of-type {\n",
       "        vertical-align: middle;\n",
       "    }\n",
       "\n",
       "    .dataframe tbody tr th {\n",
       "        vertical-align: top;\n",
       "    }\n",
       "\n",
       "    .dataframe thead th {\n",
       "        text-align: right;\n",
       "    }\n",
       "</style>\n",
       "<table border=\"1\" class=\"dataframe\">\n",
       "  <thead>\n",
       "    <tr style=\"text-align: right;\">\n",
       "      <th></th>\n",
       "      <th>Number of ribs</th>\n",
       "      <th>Shell diameter</th>\n",
       "      <th>Total Sprayers Worked</th>\n",
       "    </tr>\n",
       "  </thead>\n",
       "  <tbody>\n",
       "    <tr>\n",
       "      <th>count</th>\n",
       "      <td>2218.000000</td>\n",
       "      <td>2227.000000</td>\n",
       "      <td>2230.000000</td>\n",
       "    </tr>\n",
       "    <tr>\n",
       "      <th>mean</th>\n",
       "      <td>8.513526</td>\n",
       "      <td>9.429726</td>\n",
       "      <td>1.087892</td>\n",
       "    </tr>\n",
       "    <tr>\n",
       "      <th>std</th>\n",
       "      <td>3.120645</td>\n",
       "      <td>1.162408</td>\n",
       "      <td>0.342040</td>\n",
       "    </tr>\n",
       "    <tr>\n",
       "      <th>min</th>\n",
       "      <td>0.000000</td>\n",
       "      <td>4.000000</td>\n",
       "      <td>0.000000</td>\n",
       "    </tr>\n",
       "    <tr>\n",
       "      <th>25%</th>\n",
       "      <td>6.000000</td>\n",
       "      <td>10.000000</td>\n",
       "      <td>1.000000</td>\n",
       "    </tr>\n",
       "    <tr>\n",
       "      <th>50%</th>\n",
       "      <td>9.000000</td>\n",
       "      <td>10.000000</td>\n",
       "      <td>1.000000</td>\n",
       "    </tr>\n",
       "    <tr>\n",
       "      <th>75%</th>\n",
       "      <td>11.000000</td>\n",
       "      <td>10.000000</td>\n",
       "      <td>1.000000</td>\n",
       "    </tr>\n",
       "    <tr>\n",
       "      <th>max</th>\n",
       "      <td>16.000000</td>\n",
       "      <td>10.000000</td>\n",
       "      <td>3.000000</td>\n",
       "    </tr>\n",
       "  </tbody>\n",
       "</table>\n",
       "</div>"
      ],
      "text/plain": [
       "       Number of ribs  Shell diameter  Total Sprayers Worked\n",
       "count     2218.000000     2227.000000            2230.000000\n",
       "mean         8.513526        9.429726               1.087892\n",
       "std          3.120645        1.162408               0.342040\n",
       "min          0.000000        4.000000               0.000000\n",
       "25%          6.000000       10.000000               1.000000\n",
       "50%          9.000000       10.000000               1.000000\n",
       "75%         11.000000       10.000000               1.000000\n",
       "max         16.000000       10.000000               3.000000"
      ]
     },
     "execution_count": 71,
     "metadata": {},
     "output_type": "execute_result"
    }
   ],
   "source": [
    "Edmonton_data.describe()"
   ]
  },
  {
   "cell_type": "code",
   "execution_count": 75,
   "metadata": {},
   "outputs": [
    {
     "name": "stdout",
     "output_type": "stream",
     "text": [
      "<class 'pandas.core.frame.DataFrame'>\n",
      "RangeIndex: 2230 entries, 0 to 2229\n",
      "Data columns (total 15 columns):\n",
      " #   Column                 Non-Null Count  Dtype  \n",
      "---  ------                 --------------  -----  \n",
      " 0   SHELL ID#              2230 non-null   object \n",
      " 1   Molding Date           2209 non-null   object \n",
      " 2   Inspection date        2229 non-null   object \n",
      " 3   Sprayer 1 Name         2191 non-null   object \n",
      " 4   Sprayer 2 Name         231 non-null    object \n",
      " 5   Sprayer 3 Name         4 non-null      object \n",
      " 6   Resin batch #          1 non-null      object \n",
      " 7   Mold station #         2183 non-null   object \n",
      " 8   Number of ribs         2218 non-null   float64\n",
      " 9   Mold type              2229 non-null   object \n",
      " 10  Shell diameter         2227 non-null   float64\n",
      " 11  Tank Type              2229 non-null   object \n",
      " 12  Resin Type             2230 non-null   object \n",
      " 13  QC Name                2229 non-null   object \n",
      " 14  Total Sprayers Worked  2230 non-null   int64  \n",
      "dtypes: float64(2), int64(1), object(12)\n",
      "memory usage: 261.5+ KB\n"
     ]
    }
   ],
   "source": [
    "Edmonton_data.info()"
   ]
  },
  {
   "cell_type": "code",
   "execution_count": 82,
   "metadata": {},
   "outputs": [
    {
     "name": "stdout",
     "output_type": "stream",
     "text": [
      "<class 'pandas.core.frame.DataFrame'>\n",
      "RangeIndex: 2230 entries, 0 to 2229\n",
      "Data columns (total 15 columns):\n",
      " #   Column                 Non-Null Count  Dtype         \n",
      "---  ------                 --------------  -----         \n",
      " 0   SHELL ID#              2230 non-null   object        \n",
      " 1   Molding Date           2207 non-null   datetime64[ns]\n",
      " 2   Inspection date        2229 non-null   datetime64[ns]\n",
      " 3   Sprayer 1 Name         2191 non-null   object        \n",
      " 4   Sprayer 2 Name         231 non-null    object        \n",
      " 5   Sprayer 3 Name         4 non-null      object        \n",
      " 6   Resin batch #          1 non-null      object        \n",
      " 7   Mold station #         2183 non-null   object        \n",
      " 8   Number of ribs         2218 non-null   float64       \n",
      " 9   Mold type              2229 non-null   object        \n",
      " 10  Shell diameter         2227 non-null   float64       \n",
      " 11  Tank Type              2229 non-null   object        \n",
      " 12  Resin Type             2230 non-null   object        \n",
      " 13  QC Name                2229 non-null   object        \n",
      " 14  Total Sprayers Worked  2230 non-null   int64         \n",
      "dtypes: datetime64[ns](2), float64(2), int64(1), object(10)\n",
      "memory usage: 261.5+ KB\n"
     ]
    }
   ],
   "source": [
    "#converting types:\n",
    "Edmonton_data[\"Molding Date\"]=pd.to_datetime(Edmonton_data[\"Molding Date\"], errors='coerce')\n",
    "Edmonton_data[\"Inspection date\"]=pd.to_datetime(Edmonton_data[\"Inspection date\"], errors='coerce')\n",
    "Edmonton_data.info()\n"
   ]
  },
  {
   "cell_type": "code",
   "execution_count": 91,
   "metadata": {},
   "outputs": [
    {
     "data": {
      "text/plain": [
       "Mold station #\n",
       "1           466\n",
       "3           443\n",
       "5           432\n",
       "2           409\n",
       "4           379\n",
       "6            45\n",
       "7             4\n",
       "4' Mold       3\n",
       "01/05/00      1\n",
       "10            1\n",
       "Name: count, dtype: int64"
      ]
     },
     "execution_count": 91,
     "metadata": {},
     "output_type": "execute_result"
    }
   ],
   "source": [
    "Edmonton_data['Mold station #'].value_counts()"
   ]
  },
  {
   "cell_type": "code",
   "execution_count": 101,
   "metadata": {},
   "outputs": [
    {
     "data": {
      "text/plain": [
       "array(['2', '3', '5', ..., '2', '4', '5'], dtype=object)"
      ]
     },
     "execution_count": 101,
     "metadata": {},
     "output_type": "execute_result"
    }
   ],
   "source": [
    "Edmonton_data[\"Mold station #\"].values"
   ]
  },
  {
   "cell_type": "code",
   "execution_count": 119,
   "metadata": {},
   "outputs": [],
   "source": [
    "Edmonton_data['Mold station #'] = pd.to_numeric(Edmonton_data['Mold station #'], errors='coerce')"
   ]
  },
  {
   "cell_type": "code",
   "execution_count": 120,
   "metadata": {},
   "outputs": [
    {
     "data": {
      "text/plain": [
       "array([2., 3., 5., ..., 2., 4., 5.])"
      ]
     },
     "execution_count": 120,
     "metadata": {},
     "output_type": "execute_result"
    }
   ],
   "source": [
    "Edmonton_data[\"Mold station #\"].values"
   ]
  },
  {
   "cell_type": "code",
   "execution_count": 121,
   "metadata": {},
   "outputs": [
    {
     "name": "stdout",
     "output_type": "stream",
     "text": [
      "<class 'pandas.core.frame.DataFrame'>\n",
      "RangeIndex: 2230 entries, 0 to 2229\n",
      "Data columns (total 15 columns):\n",
      " #   Column                 Non-Null Count  Dtype         \n",
      "---  ------                 --------------  -----         \n",
      " 0   SHELL ID#              2230 non-null   object        \n",
      " 1   Molding Date           2207 non-null   datetime64[ns]\n",
      " 2   Inspection date        2229 non-null   datetime64[ns]\n",
      " 3   Sprayer 1 Name         2191 non-null   object        \n",
      " 4   Sprayer 2 Name         231 non-null    object        \n",
      " 5   Sprayer 3 Name         4 non-null      object        \n",
      " 6   Resin batch #          1 non-null      object        \n",
      " 7   Mold station #         2179 non-null   float64       \n",
      " 8   Number of ribs         2218 non-null   float64       \n",
      " 9   Mold type              2229 non-null   object        \n",
      " 10  Shell diameter         2227 non-null   float64       \n",
      " 11  Tank Type              2229 non-null   object        \n",
      " 12  Resin Type             2230 non-null   object        \n",
      " 13  QC Name                2229 non-null   object        \n",
      " 14  Total Sprayers Worked  2230 non-null   int64         \n",
      "dtypes: datetime64[ns](2), float64(3), int64(1), object(9)\n",
      "memory usage: 261.5+ KB\n"
     ]
    }
   ],
   "source": [
    "Edmonton_data.info()"
   ]
  },
  {
   "cell_type": "markdown",
   "metadata": {},
   "source": [
    "**Resin batch #** is empty"
   ]
  },
  {
   "cell_type": "code",
   "execution_count": 70,
   "metadata": {},
   "outputs": [
    {
     "data": {
      "text/html": [
       "<div>\n",
       "<style scoped>\n",
       "    .dataframe tbody tr th:only-of-type {\n",
       "        vertical-align: middle;\n",
       "    }\n",
       "\n",
       "    .dataframe tbody tr th {\n",
       "        vertical-align: top;\n",
       "    }\n",
       "\n",
       "    .dataframe thead th {\n",
       "        text-align: right;\n",
       "    }\n",
       "</style>\n",
       "<table border=\"1\" class=\"dataframe\">\n",
       "  <thead>\n",
       "    <tr style=\"text-align: right;\">\n",
       "      <th></th>\n",
       "      <th>SHELL ID#</th>\n",
       "      <th>Molding Date</th>\n",
       "      <th>Inspection date</th>\n",
       "      <th>Sprayer 1 Name</th>\n",
       "      <th>Sprayer 2 Name</th>\n",
       "      <th>Sprayer 3 Name</th>\n",
       "      <th>Resin batch #</th>\n",
       "      <th>Mold station #</th>\n",
       "      <th>Number of ribs</th>\n",
       "      <th>Mold type</th>\n",
       "      <th>Shell diameter</th>\n",
       "      <th>Tank Type</th>\n",
       "      <th>Resin Type</th>\n",
       "      <th>QC Name</th>\n",
       "      <th>Total Sprayers Worked</th>\n",
       "    </tr>\n",
       "  </thead>\n",
       "  <tbody>\n",
       "    <tr>\n",
       "      <th>0</th>\n",
       "      <td>91007504 A</td>\n",
       "      <td>12/20/22</td>\n",
       "      <td>01/04/23</td>\n",
       "      <td>Jonald</td>\n",
       "      <td>NaN</td>\n",
       "      <td>NaN</td>\n",
       "      <td>NaN</td>\n",
       "      <td>2</td>\n",
       "      <td>6.0</td>\n",
       "      <td>02-Steel</td>\n",
       "      <td>10.0</td>\n",
       "      <td>05-DW-UL/ULC</td>\n",
       "      <td>10-DION 490-27 WINTER</td>\n",
       "      <td>Nandish</td>\n",
       "      <td>1</td>\n",
       "    </tr>\n",
       "    <tr>\n",
       "      <th>1</th>\n",
       "      <td>91007504 B</td>\n",
       "      <td>12/20/22</td>\n",
       "      <td>01/04/23</td>\n",
       "      <td>NaN</td>\n",
       "      <td>NaN</td>\n",
       "      <td>NaN</td>\n",
       "      <td>NaN</td>\n",
       "      <td>3</td>\n",
       "      <td>6.0</td>\n",
       "      <td>02-Steel</td>\n",
       "      <td>10.0</td>\n",
       "      <td>05-DW-UL/ULC</td>\n",
       "      <td>10-DION 490-27 WINTER</td>\n",
       "      <td>Varghese</td>\n",
       "      <td>0</td>\n",
       "    </tr>\n",
       "    <tr>\n",
       "      <th>2</th>\n",
       "      <td>91007504 C</td>\n",
       "      <td>12/20/22</td>\n",
       "      <td>01/04/23</td>\n",
       "      <td>NaN</td>\n",
       "      <td>NaN</td>\n",
       "      <td>NaN</td>\n",
       "      <td>NaN</td>\n",
       "      <td>5</td>\n",
       "      <td>9.0</td>\n",
       "      <td>02-Steel</td>\n",
       "      <td>10.0</td>\n",
       "      <td>05-DW-UL/ULC</td>\n",
       "      <td>10-DION 490-27 WINTER</td>\n",
       "      <td>Varghese</td>\n",
       "      <td>0</td>\n",
       "    </tr>\n",
       "    <tr>\n",
       "      <th>3</th>\n",
       "      <td>91007503 B</td>\n",
       "      <td>12/19/22</td>\n",
       "      <td>01/04/23</td>\n",
       "      <td>Tuyen</td>\n",
       "      <td>Jonald</td>\n",
       "      <td>NaN</td>\n",
       "      <td>NaN</td>\n",
       "      <td>3</td>\n",
       "      <td>6.0</td>\n",
       "      <td>02-Steel</td>\n",
       "      <td>10.0</td>\n",
       "      <td>05-DW-UL/ULC</td>\n",
       "      <td>10-DION 490-27 WINTER</td>\n",
       "      <td>Edwin</td>\n",
       "      <td>2</td>\n",
       "    </tr>\n",
       "    <tr>\n",
       "      <th>4</th>\n",
       "      <td>91007502 B</td>\n",
       "      <td>12/21/22</td>\n",
       "      <td>01/04/23</td>\n",
       "      <td>Inderjeet</td>\n",
       "      <td>Mark</td>\n",
       "      <td>NaN</td>\n",
       "      <td>NaN</td>\n",
       "      <td>4</td>\n",
       "      <td>10.0</td>\n",
       "      <td>02-Steel</td>\n",
       "      <td>10.0</td>\n",
       "      <td>05-DW-UL/ULC</td>\n",
       "      <td>10-DION 490-27 WINTER</td>\n",
       "      <td>Edwin</td>\n",
       "      <td>2</td>\n",
       "    </tr>\n",
       "  </tbody>\n",
       "</table>\n",
       "</div>"
      ],
      "text/plain": [
       "    SHELL ID# Molding Date Inspection date Sprayer 1 Name Sprayer 2 Name  \\\n",
       "0  91007504 A     12/20/22        01/04/23         Jonald            NaN   \n",
       "1  91007504 B     12/20/22        01/04/23            NaN            NaN   \n",
       "2  91007504 C     12/20/22        01/04/23            NaN            NaN   \n",
       "3  91007503 B     12/19/22        01/04/23          Tuyen         Jonald   \n",
       "4  91007502 B     12/21/22        01/04/23      Inderjeet           Mark   \n",
       "\n",
       "  Sprayer 3 Name Resin batch # Mold station #  Number of ribs Mold type  \\\n",
       "0            NaN           NaN              2             6.0  02-Steel   \n",
       "1            NaN           NaN              3             6.0  02-Steel   \n",
       "2            NaN           NaN              5             9.0  02-Steel   \n",
       "3            NaN           NaN              3             6.0  02-Steel   \n",
       "4            NaN           NaN              4            10.0  02-Steel   \n",
       "\n",
       "   Shell diameter     Tank Type             Resin Type   QC Name  \\\n",
       "0            10.0  05-DW-UL/ULC  10-DION 490-27 WINTER   Nandish   \n",
       "1            10.0  05-DW-UL/ULC  10-DION 490-27 WINTER  Varghese   \n",
       "2            10.0  05-DW-UL/ULC  10-DION 490-27 WINTER  Varghese   \n",
       "3            10.0  05-DW-UL/ULC  10-DION 490-27 WINTER     Edwin   \n",
       "4            10.0  05-DW-UL/ULC  10-DION 490-27 WINTER     Edwin   \n",
       "\n",
       "   Total Sprayers Worked  \n",
       "0                      1  \n",
       "1                      0  \n",
       "2                      0  \n",
       "3                      2  \n",
       "4                      2  "
      ]
     },
     "execution_count": 70,
     "metadata": {},
     "output_type": "execute_result"
    }
   ],
   "source": [
    "Edmonton_data.head()"
   ]
  },
  {
   "cell_type": "markdown",
   "metadata": {},
   "source": [
    "# Adding rework data"
   ]
  },
  {
   "cell_type": "code",
   "execution_count": 124,
   "metadata": {},
   "outputs": [
    {
     "data": {
      "text/html": [
       "<div>\n",
       "<style scoped>\n",
       "    .dataframe tbody tr th:only-of-type {\n",
       "        vertical-align: middle;\n",
       "    }\n",
       "\n",
       "    .dataframe tbody tr th {\n",
       "        vertical-align: top;\n",
       "    }\n",
       "\n",
       "    .dataframe thead th {\n",
       "        text-align: right;\n",
       "    }\n",
       "</style>\n",
       "<table border=\"1\" class=\"dataframe\">\n",
       "  <thead>\n",
       "    <tr style=\"text-align: right;\">\n",
       "      <th></th>\n",
       "      <th>Rework</th>\n",
       "      <th>Rate</th>\n",
       "    </tr>\n",
       "  </thead>\n",
       "  <tbody>\n",
       "    <tr>\n",
       "      <th>0</th>\n",
       "      <td>0.11%</td>\n",
       "      <td>NaN</td>\n",
       "    </tr>\n",
       "    <tr>\n",
       "      <th>1</th>\n",
       "      <td>0.11%</td>\n",
       "      <td>NaN</td>\n",
       "    </tr>\n",
       "    <tr>\n",
       "      <th>2</th>\n",
       "      <td>0.17%</td>\n",
       "      <td>NaN</td>\n",
       "    </tr>\n",
       "    <tr>\n",
       "      <th>3</th>\n",
       "      <td>0.00%</td>\n",
       "      <td>NaN</td>\n",
       "    </tr>\n",
       "    <tr>\n",
       "      <th>4</th>\n",
       "      <td>0.40%</td>\n",
       "      <td>NaN</td>\n",
       "    </tr>\n",
       "  </tbody>\n",
       "</table>\n",
       "</div>"
      ],
      "text/plain": [
       "  Rework  Rate\n",
       "0  0.11%   NaN\n",
       "1  0.11%   NaN\n",
       "2  0.17%   NaN\n",
       "3  0.00%   NaN\n",
       "4  0.40%   NaN"
      ]
     },
     "execution_count": 124,
     "metadata": {},
     "output_type": "execute_result"
    }
   ],
   "source": [
    "Edmonton_rework = pd.read_clipboard()\n",
    "Edmonton_rework.head()"
   ]
  },
  {
   "cell_type": "code",
   "execution_count": 129,
   "metadata": {},
   "outputs": [
    {
     "data": {
      "text/plain": [
       "(2230, 1)"
      ]
     },
     "execution_count": 129,
     "metadata": {},
     "output_type": "execute_result"
    }
   ],
   "source": [
    "Edmonton_rework.drop(columns=['Rate'], inplace=True)\n",
    "Edmonton_rework.shape"
   ]
  },
  {
   "cell_type": "markdown",
   "metadata": {},
   "source": []
  },
  {
   "cell_type": "code",
   "execution_count": 151,
   "metadata": {},
   "outputs": [
    {
     "data": {
      "text/html": [
       "<div>\n",
       "<style scoped>\n",
       "    .dataframe tbody tr th:only-of-type {\n",
       "        vertical-align: middle;\n",
       "    }\n",
       "\n",
       "    .dataframe tbody tr th {\n",
       "        vertical-align: top;\n",
       "    }\n",
       "\n",
       "    .dataframe thead th {\n",
       "        text-align: right;\n",
       "    }\n",
       "</style>\n",
       "<table border=\"1\" class=\"dataframe\">\n",
       "  <thead>\n",
       "    <tr style=\"text-align: right;\">\n",
       "      <th></th>\n",
       "      <th>SHELL ID#</th>\n",
       "      <th>Molding Date</th>\n",
       "      <th>Inspection date</th>\n",
       "      <th>Sprayer 1 Name</th>\n",
       "      <th>Sprayer 2 Name</th>\n",
       "      <th>Sprayer 3 Name</th>\n",
       "      <th>Resin batch #</th>\n",
       "      <th>Mold station #</th>\n",
       "      <th>Number of ribs</th>\n",
       "      <th>Mold type</th>\n",
       "      <th>Shell diameter</th>\n",
       "      <th>Tank Type</th>\n",
       "      <th>Resin Type</th>\n",
       "      <th>QC Name</th>\n",
       "      <th>Total Sprayers Worked</th>\n",
       "      <th>Rework</th>\n",
       "    </tr>\n",
       "  </thead>\n",
       "  <tbody>\n",
       "    <tr>\n",
       "      <th>0</th>\n",
       "      <td>91007504 A</td>\n",
       "      <td>2022-12-20</td>\n",
       "      <td>2023-01-04</td>\n",
       "      <td>Jonald</td>\n",
       "      <td>NaN</td>\n",
       "      <td>NaN</td>\n",
       "      <td>NaN</td>\n",
       "      <td>2.0</td>\n",
       "      <td>6.0</td>\n",
       "      <td>02-Steel</td>\n",
       "      <td>10.0</td>\n",
       "      <td>05-DW-UL/ULC</td>\n",
       "      <td>10-DION 490-27 WINTER</td>\n",
       "      <td>Nandish</td>\n",
       "      <td>1</td>\n",
       "      <td>0.11%</td>\n",
       "    </tr>\n",
       "    <tr>\n",
       "      <th>1</th>\n",
       "      <td>91007504 B</td>\n",
       "      <td>2022-12-20</td>\n",
       "      <td>2023-01-04</td>\n",
       "      <td>NaN</td>\n",
       "      <td>NaN</td>\n",
       "      <td>NaN</td>\n",
       "      <td>NaN</td>\n",
       "      <td>3.0</td>\n",
       "      <td>6.0</td>\n",
       "      <td>02-Steel</td>\n",
       "      <td>10.0</td>\n",
       "      <td>05-DW-UL/ULC</td>\n",
       "      <td>10-DION 490-27 WINTER</td>\n",
       "      <td>Varghese</td>\n",
       "      <td>0</td>\n",
       "      <td>0.11%</td>\n",
       "    </tr>\n",
       "    <tr>\n",
       "      <th>2</th>\n",
       "      <td>91007504 C</td>\n",
       "      <td>2022-12-20</td>\n",
       "      <td>2023-01-04</td>\n",
       "      <td>NaN</td>\n",
       "      <td>NaN</td>\n",
       "      <td>NaN</td>\n",
       "      <td>NaN</td>\n",
       "      <td>5.0</td>\n",
       "      <td>9.0</td>\n",
       "      <td>02-Steel</td>\n",
       "      <td>10.0</td>\n",
       "      <td>05-DW-UL/ULC</td>\n",
       "      <td>10-DION 490-27 WINTER</td>\n",
       "      <td>Varghese</td>\n",
       "      <td>0</td>\n",
       "      <td>0.17%</td>\n",
       "    </tr>\n",
       "    <tr>\n",
       "      <th>3</th>\n",
       "      <td>91007503 B</td>\n",
       "      <td>2022-12-19</td>\n",
       "      <td>2023-01-04</td>\n",
       "      <td>Tuyen</td>\n",
       "      <td>Jonald</td>\n",
       "      <td>NaN</td>\n",
       "      <td>NaN</td>\n",
       "      <td>3.0</td>\n",
       "      <td>6.0</td>\n",
       "      <td>02-Steel</td>\n",
       "      <td>10.0</td>\n",
       "      <td>05-DW-UL/ULC</td>\n",
       "      <td>10-DION 490-27 WINTER</td>\n",
       "      <td>Edwin</td>\n",
       "      <td>2</td>\n",
       "      <td>0.00%</td>\n",
       "    </tr>\n",
       "    <tr>\n",
       "      <th>4</th>\n",
       "      <td>91007502 B</td>\n",
       "      <td>2022-12-21</td>\n",
       "      <td>2023-01-04</td>\n",
       "      <td>Inderjeet</td>\n",
       "      <td>Mark</td>\n",
       "      <td>NaN</td>\n",
       "      <td>NaN</td>\n",
       "      <td>4.0</td>\n",
       "      <td>10.0</td>\n",
       "      <td>02-Steel</td>\n",
       "      <td>10.0</td>\n",
       "      <td>05-DW-UL/ULC</td>\n",
       "      <td>10-DION 490-27 WINTER</td>\n",
       "      <td>Edwin</td>\n",
       "      <td>2</td>\n",
       "      <td>0.40%</td>\n",
       "    </tr>\n",
       "  </tbody>\n",
       "</table>\n",
       "</div>"
      ],
      "text/plain": [
       "    SHELL ID# Molding Date Inspection date Sprayer 1 Name Sprayer 2 Name  \\\n",
       "0  91007504 A   2022-12-20      2023-01-04         Jonald            NaN   \n",
       "1  91007504 B   2022-12-20      2023-01-04            NaN            NaN   \n",
       "2  91007504 C   2022-12-20      2023-01-04            NaN            NaN   \n",
       "3  91007503 B   2022-12-19      2023-01-04          Tuyen         Jonald   \n",
       "4  91007502 B   2022-12-21      2023-01-04      Inderjeet           Mark   \n",
       "\n",
       "  Sprayer 3 Name Resin batch #  Mold station #  Number of ribs Mold type  \\\n",
       "0            NaN           NaN             2.0             6.0  02-Steel   \n",
       "1            NaN           NaN             3.0             6.0  02-Steel   \n",
       "2            NaN           NaN             5.0             9.0  02-Steel   \n",
       "3            NaN           NaN             3.0             6.0  02-Steel   \n",
       "4            NaN           NaN             4.0            10.0  02-Steel   \n",
       "\n",
       "   Shell diameter     Tank Type             Resin Type   QC Name  \\\n",
       "0            10.0  05-DW-UL/ULC  10-DION 490-27 WINTER   Nandish   \n",
       "1            10.0  05-DW-UL/ULC  10-DION 490-27 WINTER  Varghese   \n",
       "2            10.0  05-DW-UL/ULC  10-DION 490-27 WINTER  Varghese   \n",
       "3            10.0  05-DW-UL/ULC  10-DION 490-27 WINTER     Edwin   \n",
       "4            10.0  05-DW-UL/ULC  10-DION 490-27 WINTER     Edwin   \n",
       "\n",
       "   Total Sprayers Worked Rework  \n",
       "0                      1  0.11%  \n",
       "1                      0  0.11%  \n",
       "2                      0  0.17%  \n",
       "3                      2  0.00%  \n",
       "4                      2  0.40%  "
      ]
     },
     "execution_count": 151,
     "metadata": {},
     "output_type": "execute_result"
    }
   ],
   "source": [
    "Edmonton_data = pd.concat([Edmonton_data,Edmonton_rework], axis=1)\n",
    "Edmonton_data.head()"
   ]
  },
  {
   "cell_type": "markdown",
   "metadata": {},
   "source": [
    "changing the datatype of rework"
   ]
  },
  {
   "cell_type": "code",
   "execution_count": 163,
   "metadata": {},
   "outputs": [
    {
     "name": "stdout",
     "output_type": "stream",
     "text": [
      "<class 'pandas.core.frame.DataFrame'>\n",
      "Index: 2230 entries, 0 to 2229\n",
      "Data columns (total 11 columns):\n",
      " #   Column                 Non-Null Count  Dtype  \n",
      "---  ------                 --------------  -----  \n",
      " 0   SHELL ID#              2230 non-null   object \n",
      " 1   Molding Date           2207 non-null   object \n",
      " 2   Inspection date        2229 non-null   object \n",
      " 3   Mold station #         2179 non-null   float64\n",
      " 4   Number of ribs         2218 non-null   float64\n",
      " 5   Mold type              2229 non-null   object \n",
      " 6   Shell diameter         2227 non-null   float64\n",
      " 7   Tank Type              2229 non-null   object \n",
      " 8   Resin Type             2230 non-null   object \n",
      " 9   Total Sprayers Worked  2230 non-null   int64  \n",
      " 10  Rework                 2230 non-null   float64\n",
      "dtypes: float64(4), int64(1), object(6)\n",
      "memory usage: 209.1+ KB\n"
     ]
    },
    {
     "name": "stderr",
     "output_type": "stream",
     "text": [
      "C:\\Users\\farzad.kashefini\\AppData\\Local\\Temp\\ipykernel_35744\\528933759.py:1: SettingWithCopyWarning: \n",
      "A value is trying to be set on a copy of a slice from a DataFrame.\n",
      "Try using .loc[row_indexer,col_indexer] = value instead\n",
      "\n",
      "See the caveats in the documentation: https://pandas.pydata.org/pandas-docs/stable/user_guide/indexing.html#returning-a-view-versus-a-copy\n",
      "  Edmonton_data[\"Rework\"] = pd.to_numeric(Edmonton_data['Rework'].str.rstrip('%'), errors='coerce')\n"
     ]
    }
   ],
   "source": [
    "Edmonton_data[\"Rework\"] = pd.to_numeric(Edmonton_data['Rework'].str.rstrip('%'), errors='coerce')\n",
    "Edmonton_data.info()"
   ]
  },
  {
   "cell_type": "code",
   "execution_count": 173,
   "metadata": {},
   "outputs": [
    {
     "data": {
      "text/plain": [
       "count    2230.000000\n",
       "mean        0.719081\n",
       "std         2.127328\n",
       "min         0.000000\n",
       "25%         0.070000\n",
       "50%         0.200000\n",
       "75%         0.510000\n",
       "max        39.710000\n",
       "Name: Rework, dtype: float64"
      ]
     },
     "execution_count": 173,
     "metadata": {},
     "output_type": "execute_result"
    }
   ],
   "source": [
    "Edmonton_data[\"Rework\"].describe()"
   ]
  },
  {
   "cell_type": "markdown",
   "metadata": {},
   "source": [
    "The max value is not right"
   ]
  },
  {
   "cell_type": "code",
   "execution_count": 180,
   "metadata": {},
   "outputs": [],
   "source": [
    "Edmonton_data.loc[Edmonton_data[\"Rework\"] > 1, \"Rework\"] /= 100"
   ]
  },
  {
   "cell_type": "code",
   "execution_count": 181,
   "metadata": {},
   "outputs": [
    {
     "data": {
      "text/html": [
       "<div>\n",
       "<style scoped>\n",
       "    .dataframe tbody tr th:only-of-type {\n",
       "        vertical-align: middle;\n",
       "    }\n",
       "\n",
       "    .dataframe tbody tr th {\n",
       "        vertical-align: top;\n",
       "    }\n",
       "\n",
       "    .dataframe thead th {\n",
       "        text-align: right;\n",
       "    }\n",
       "</style>\n",
       "<table border=\"1\" class=\"dataframe\">\n",
       "  <thead>\n",
       "    <tr style=\"text-align: right;\">\n",
       "      <th></th>\n",
       "      <th>SHELL ID#</th>\n",
       "      <th>Molding Date</th>\n",
       "      <th>Inspection date</th>\n",
       "      <th>Mold station #</th>\n",
       "      <th>Number of ribs</th>\n",
       "      <th>Mold type</th>\n",
       "      <th>Shell diameter</th>\n",
       "      <th>Tank Type</th>\n",
       "      <th>Resin Type</th>\n",
       "      <th>Total Sprayers Worked</th>\n",
       "      <th>Rework</th>\n",
       "    </tr>\n",
       "  </thead>\n",
       "  <tbody>\n",
       "  </tbody>\n",
       "</table>\n",
       "</div>"
      ],
      "text/plain": [
       "Empty DataFrame\n",
       "Columns: [SHELL ID#, Molding Date, Inspection date, Mold station #, Number of ribs, Mold type, Shell diameter, Tank Type, Resin Type, Total Sprayers Worked, Rework]\n",
       "Index: []"
      ]
     },
     "execution_count": 181,
     "metadata": {},
     "output_type": "execute_result"
    }
   ],
   "source": [
    "Edmonton_data[Edmonton_data[\"Rework\"]>1]"
   ]
  },
  {
   "cell_type": "code",
   "execution_count": 182,
   "metadata": {},
   "outputs": [
    {
     "data": {
      "text/plain": [
       "count    2230.000000\n",
       "mean        0.221861\n",
       "std         0.237725\n",
       "min         0.000000\n",
       "25%         0.012700\n",
       "50%         0.150000\n",
       "75%         0.337500\n",
       "max         1.000000\n",
       "Name: Rework, dtype: float64"
      ]
     },
     "execution_count": 182,
     "metadata": {},
     "output_type": "execute_result"
    }
   ],
   "source": [
    "Edmonton_data[\"Rework\"].describe()"
   ]
  },
  {
   "cell_type": "markdown",
   "metadata": {},
   "source": [
    "# Saving the data frame"
   ]
  },
  {
   "cell_type": "code",
   "execution_count": 183,
   "metadata": {},
   "outputs": [],
   "source": [
    "Edmonton_data.to_csv(\"Edmonton_data_Cleaned.csv\")"
   ]
  },
  {
   "cell_type": "markdown",
   "metadata": {},
   "source": [
    "# Restart from Here!"
   ]
  },
  {
   "cell_type": "code",
   "execution_count": 184,
   "metadata": {},
   "outputs": [
    {
     "data": {
      "text/html": [
       "<div>\n",
       "<style scoped>\n",
       "    .dataframe tbody tr th:only-of-type {\n",
       "        vertical-align: middle;\n",
       "    }\n",
       "\n",
       "    .dataframe tbody tr th {\n",
       "        vertical-align: top;\n",
       "    }\n",
       "\n",
       "    .dataframe thead th {\n",
       "        text-align: right;\n",
       "    }\n",
       "</style>\n",
       "<table border=\"1\" class=\"dataframe\">\n",
       "  <thead>\n",
       "    <tr style=\"text-align: right;\">\n",
       "      <th></th>\n",
       "      <th>SHELL ID#</th>\n",
       "      <th>Molding Date</th>\n",
       "      <th>Inspection date</th>\n",
       "      <th>Mold station #</th>\n",
       "      <th>Number of ribs</th>\n",
       "      <th>Mold type</th>\n",
       "      <th>Shell diameter</th>\n",
       "      <th>Tank Type</th>\n",
       "      <th>Resin Type</th>\n",
       "      <th>Total Sprayers Worked</th>\n",
       "      <th>Rework</th>\n",
       "    </tr>\n",
       "  </thead>\n",
       "  <tbody>\n",
       "    <tr>\n",
       "      <th>0</th>\n",
       "      <td>91007504 A</td>\n",
       "      <td>2022-12-20</td>\n",
       "      <td>2023-01-04</td>\n",
       "      <td>2.0</td>\n",
       "      <td>6.0</td>\n",
       "      <td>02-Steel</td>\n",
       "      <td>10.0</td>\n",
       "      <td>05-DW-UL/ULC</td>\n",
       "      <td>10-DION 490-27 WINTER</td>\n",
       "      <td>1</td>\n",
       "      <td>0.11</td>\n",
       "    </tr>\n",
       "    <tr>\n",
       "      <th>1</th>\n",
       "      <td>91007504 B</td>\n",
       "      <td>2022-12-20</td>\n",
       "      <td>2023-01-04</td>\n",
       "      <td>3.0</td>\n",
       "      <td>6.0</td>\n",
       "      <td>02-Steel</td>\n",
       "      <td>10.0</td>\n",
       "      <td>05-DW-UL/ULC</td>\n",
       "      <td>10-DION 490-27 WINTER</td>\n",
       "      <td>0</td>\n",
       "      <td>0.11</td>\n",
       "    </tr>\n",
       "    <tr>\n",
       "      <th>2</th>\n",
       "      <td>91007504 C</td>\n",
       "      <td>2022-12-20</td>\n",
       "      <td>2023-01-04</td>\n",
       "      <td>5.0</td>\n",
       "      <td>9.0</td>\n",
       "      <td>02-Steel</td>\n",
       "      <td>10.0</td>\n",
       "      <td>05-DW-UL/ULC</td>\n",
       "      <td>10-DION 490-27 WINTER</td>\n",
       "      <td>0</td>\n",
       "      <td>0.17</td>\n",
       "    </tr>\n",
       "    <tr>\n",
       "      <th>3</th>\n",
       "      <td>91007503 B</td>\n",
       "      <td>2022-12-19</td>\n",
       "      <td>2023-01-04</td>\n",
       "      <td>3.0</td>\n",
       "      <td>6.0</td>\n",
       "      <td>02-Steel</td>\n",
       "      <td>10.0</td>\n",
       "      <td>05-DW-UL/ULC</td>\n",
       "      <td>10-DION 490-27 WINTER</td>\n",
       "      <td>2</td>\n",
       "      <td>0.00</td>\n",
       "    </tr>\n",
       "    <tr>\n",
       "      <th>4</th>\n",
       "      <td>91007502 B</td>\n",
       "      <td>2022-12-21</td>\n",
       "      <td>2023-01-04</td>\n",
       "      <td>4.0</td>\n",
       "      <td>10.0</td>\n",
       "      <td>02-Steel</td>\n",
       "      <td>10.0</td>\n",
       "      <td>05-DW-UL/ULC</td>\n",
       "      <td>10-DION 490-27 WINTER</td>\n",
       "      <td>2</td>\n",
       "      <td>0.40</td>\n",
       "    </tr>\n",
       "  </tbody>\n",
       "</table>\n",
       "</div>"
      ],
      "text/plain": [
       "    SHELL ID# Molding Date Inspection date  Mold station #  Number of ribs  \\\n",
       "0  91007504 A   2022-12-20      2023-01-04             2.0             6.0   \n",
       "1  91007504 B   2022-12-20      2023-01-04             3.0             6.0   \n",
       "2  91007504 C   2022-12-20      2023-01-04             5.0             9.0   \n",
       "3  91007503 B   2022-12-19      2023-01-04             3.0             6.0   \n",
       "4  91007502 B   2022-12-21      2023-01-04             4.0            10.0   \n",
       "\n",
       "  Mold type  Shell diameter     Tank Type             Resin Type  \\\n",
       "0  02-Steel            10.0  05-DW-UL/ULC  10-DION 490-27 WINTER   \n",
       "1  02-Steel            10.0  05-DW-UL/ULC  10-DION 490-27 WINTER   \n",
       "2  02-Steel            10.0  05-DW-UL/ULC  10-DION 490-27 WINTER   \n",
       "3  02-Steel            10.0  05-DW-UL/ULC  10-DION 490-27 WINTER   \n",
       "4  02-Steel            10.0  05-DW-UL/ULC  10-DION 490-27 WINTER   \n",
       "\n",
       "   Total Sprayers Worked  Rework  \n",
       "0                      1    0.11  \n",
       "1                      0    0.11  \n",
       "2                      0    0.17  \n",
       "3                      2    0.00  \n",
       "4                      2    0.40  "
      ]
     },
     "execution_count": 184,
     "metadata": {},
     "output_type": "execute_result"
    }
   ],
   "source": [
    "Edmonton_data = pd.read_csv(\"Edmonton_data_Cleaned.csv\", index_col=0)\n",
    "Edmonton_data.head()"
   ]
  },
  {
   "cell_type": "markdown",
   "metadata": {},
   "source": [
    "## Get appropriate columns"
   ]
  },
  {
   "cell_type": "code",
   "execution_count": 156,
   "metadata": {},
   "outputs": [
    {
     "data": {
      "text/plain": [
       "Index(['SHELL ID#', 'Molding Date', 'Inspection date', 'Sprayer 1 Name',\n",
       "       'Sprayer 2 Name', 'Sprayer 3 Name', 'Resin batch #', 'Mold station #',\n",
       "       'Number of ribs', 'Mold type', 'Shell diameter', 'Tank Type',\n",
       "       'Resin Type', 'QC Name', 'Total Sprayers Worked', 'Rework'],\n",
       "      dtype='object')"
      ]
     },
     "execution_count": 156,
     "metadata": {},
     "output_type": "execute_result"
    }
   ],
   "source": [
    "Edmonton_data.columns"
   ]
  },
  {
   "cell_type": "code",
   "execution_count": 169,
   "metadata": {},
   "outputs": [
    {
     "data": {
      "text/html": [
       "<div>\n",
       "<style scoped>\n",
       "    .dataframe tbody tr th:only-of-type {\n",
       "        vertical-align: middle;\n",
       "    }\n",
       "\n",
       "    .dataframe tbody tr th {\n",
       "        vertical-align: top;\n",
       "    }\n",
       "\n",
       "    .dataframe thead th {\n",
       "        text-align: right;\n",
       "    }\n",
       "</style>\n",
       "<table border=\"1\" class=\"dataframe\">\n",
       "  <thead>\n",
       "    <tr style=\"text-align: right;\">\n",
       "      <th></th>\n",
       "      <th>SHELL ID#</th>\n",
       "      <th>Molding Date</th>\n",
       "      <th>Inspection date</th>\n",
       "      <th>Mold station #</th>\n",
       "      <th>Number of ribs</th>\n",
       "      <th>Mold type</th>\n",
       "      <th>Shell diameter</th>\n",
       "      <th>Tank Type</th>\n",
       "      <th>Resin Type</th>\n",
       "      <th>Total Sprayers Worked</th>\n",
       "      <th>Rework</th>\n",
       "    </tr>\n",
       "  </thead>\n",
       "  <tbody>\n",
       "    <tr>\n",
       "      <th>0</th>\n",
       "      <td>91007504 A</td>\n",
       "      <td>2022-12-20</td>\n",
       "      <td>2023-01-04</td>\n",
       "      <td>2.0</td>\n",
       "      <td>6.0</td>\n",
       "      <td>02-Steel</td>\n",
       "      <td>10.0</td>\n",
       "      <td>05-DW-UL/ULC</td>\n",
       "      <td>10-DION 490-27 WINTER</td>\n",
       "      <td>1</td>\n",
       "      <td>0.11</td>\n",
       "    </tr>\n",
       "    <tr>\n",
       "      <th>1</th>\n",
       "      <td>91007504 B</td>\n",
       "      <td>2022-12-20</td>\n",
       "      <td>2023-01-04</td>\n",
       "      <td>3.0</td>\n",
       "      <td>6.0</td>\n",
       "      <td>02-Steel</td>\n",
       "      <td>10.0</td>\n",
       "      <td>05-DW-UL/ULC</td>\n",
       "      <td>10-DION 490-27 WINTER</td>\n",
       "      <td>0</td>\n",
       "      <td>0.11</td>\n",
       "    </tr>\n",
       "    <tr>\n",
       "      <th>2</th>\n",
       "      <td>91007504 C</td>\n",
       "      <td>2022-12-20</td>\n",
       "      <td>2023-01-04</td>\n",
       "      <td>5.0</td>\n",
       "      <td>9.0</td>\n",
       "      <td>02-Steel</td>\n",
       "      <td>10.0</td>\n",
       "      <td>05-DW-UL/ULC</td>\n",
       "      <td>10-DION 490-27 WINTER</td>\n",
       "      <td>0</td>\n",
       "      <td>0.17</td>\n",
       "    </tr>\n",
       "    <tr>\n",
       "      <th>3</th>\n",
       "      <td>91007503 B</td>\n",
       "      <td>2022-12-19</td>\n",
       "      <td>2023-01-04</td>\n",
       "      <td>3.0</td>\n",
       "      <td>6.0</td>\n",
       "      <td>02-Steel</td>\n",
       "      <td>10.0</td>\n",
       "      <td>05-DW-UL/ULC</td>\n",
       "      <td>10-DION 490-27 WINTER</td>\n",
       "      <td>2</td>\n",
       "      <td>0.00</td>\n",
       "    </tr>\n",
       "    <tr>\n",
       "      <th>4</th>\n",
       "      <td>91007502 B</td>\n",
       "      <td>2022-12-21</td>\n",
       "      <td>2023-01-04</td>\n",
       "      <td>4.0</td>\n",
       "      <td>10.0</td>\n",
       "      <td>02-Steel</td>\n",
       "      <td>10.0</td>\n",
       "      <td>05-DW-UL/ULC</td>\n",
       "      <td>10-DION 490-27 WINTER</td>\n",
       "      <td>2</td>\n",
       "      <td>0.40</td>\n",
       "    </tr>\n",
       "  </tbody>\n",
       "</table>\n",
       "</div>"
      ],
      "text/plain": [
       "    SHELL ID# Molding Date Inspection date  Mold station #  Number of ribs  \\\n",
       "0  91007504 A   2022-12-20      2023-01-04             2.0             6.0   \n",
       "1  91007504 B   2022-12-20      2023-01-04             3.0             6.0   \n",
       "2  91007504 C   2022-12-20      2023-01-04             5.0             9.0   \n",
       "3  91007503 B   2022-12-19      2023-01-04             3.0             6.0   \n",
       "4  91007502 B   2022-12-21      2023-01-04             4.0            10.0   \n",
       "\n",
       "  Mold type  Shell diameter     Tank Type             Resin Type  \\\n",
       "0  02-Steel            10.0  05-DW-UL/ULC  10-DION 490-27 WINTER   \n",
       "1  02-Steel            10.0  05-DW-UL/ULC  10-DION 490-27 WINTER   \n",
       "2  02-Steel            10.0  05-DW-UL/ULC  10-DION 490-27 WINTER   \n",
       "3  02-Steel            10.0  05-DW-UL/ULC  10-DION 490-27 WINTER   \n",
       "4  02-Steel            10.0  05-DW-UL/ULC  10-DION 490-27 WINTER   \n",
       "\n",
       "   Total Sprayers Worked  Rework  \n",
       "0                      1    0.11  \n",
       "1                      0    0.11  \n",
       "2                      0    0.17  \n",
       "3                      2    0.00  \n",
       "4                      2    0.40  "
      ]
     },
     "execution_count": 169,
     "metadata": {},
     "output_type": "execute_result"
    }
   ],
   "source": [
    "Edmonton_data_original = Edmonton_data.copy()\n",
    "Edmonton_data = Edmonton_data[['SHELL ID#', 'Molding Date', 'Inspection date', 'Mold station #',\n",
    "       'Number of ribs', 'Mold type', 'Shell diameter', 'Tank Type',\n",
    "       'Resin Type',  'Total Sprayers Worked', 'Rework']]\n",
    "Edmonton_data.head()"
   ]
  },
  {
   "cell_type": "code",
   "execution_count": 185,
   "metadata": {},
   "outputs": [
    {
     "data": {
      "text/plain": [
       "count    2230.000000\n",
       "mean        0.221861\n",
       "std         0.237725\n",
       "min         0.000000\n",
       "25%         0.012700\n",
       "50%         0.150000\n",
       "75%         0.337500\n",
       "max         1.000000\n",
       "Name: Rework, dtype: float64"
      ]
     },
     "execution_count": 185,
     "metadata": {},
     "output_type": "execute_result"
    }
   ],
   "source": [
    "Edmonton_data[\"Rework\"].describe()"
   ]
  },
  {
   "cell_type": "code",
   "execution_count": 186,
   "metadata": {},
   "outputs": [
    {
     "name": "stderr",
     "output_type": "stream",
     "text": [
      "c:\\Users\\farzad.kashefini\\AppData\\Local\\miniconda3\\envs\\myenv\\Lib\\site-packages\\seaborn\\_oldcore.py:1498: FutureWarning: is_categorical_dtype is deprecated and will be removed in a future version. Use isinstance(dtype, CategoricalDtype) instead\n",
      "  if pd.api.types.is_categorical_dtype(vector):\n",
      "c:\\Users\\farzad.kashefini\\AppData\\Local\\miniconda3\\envs\\myenv\\Lib\\site-packages\\seaborn\\_oldcore.py:1498: FutureWarning: is_categorical_dtype is deprecated and will be removed in a future version. Use isinstance(dtype, CategoricalDtype) instead\n",
      "  if pd.api.types.is_categorical_dtype(vector):\n",
      "c:\\Users\\farzad.kashefini\\AppData\\Local\\miniconda3\\envs\\myenv\\Lib\\site-packages\\seaborn\\_oldcore.py:1498: FutureWarning: is_categorical_dtype is deprecated and will be removed in a future version. Use isinstance(dtype, CategoricalDtype) instead\n",
      "  if pd.api.types.is_categorical_dtype(vector):\n",
      "c:\\Users\\farzad.kashefini\\AppData\\Local\\miniconda3\\envs\\myenv\\Lib\\site-packages\\seaborn\\_oldcore.py:1498: FutureWarning: is_categorical_dtype is deprecated and will be removed in a future version. Use isinstance(dtype, CategoricalDtype) instead\n",
      "  if pd.api.types.is_categorical_dtype(vector):\n",
      "c:\\Users\\farzad.kashefini\\AppData\\Local\\miniconda3\\envs\\myenv\\Lib\\site-packages\\seaborn\\_oldcore.py:1498: FutureWarning: is_categorical_dtype is deprecated and will be removed in a future version. Use isinstance(dtype, CategoricalDtype) instead\n",
      "  if pd.api.types.is_categorical_dtype(vector):\n",
      "c:\\Users\\farzad.kashefini\\AppData\\Local\\miniconda3\\envs\\myenv\\Lib\\site-packages\\seaborn\\_oldcore.py:1498: FutureWarning: is_categorical_dtype is deprecated and will be removed in a future version. Use isinstance(dtype, CategoricalDtype) instead\n",
      "  if pd.api.types.is_categorical_dtype(vector):\n",
      "c:\\Users\\farzad.kashefini\\AppData\\Local\\miniconda3\\envs\\myenv\\Lib\\site-packages\\seaborn\\_oldcore.py:1498: FutureWarning: is_categorical_dtype is deprecated and will be removed in a future version. Use isinstance(dtype, CategoricalDtype) instead\n",
      "  if pd.api.types.is_categorical_dtype(vector):\n",
      "c:\\Users\\farzad.kashefini\\AppData\\Local\\miniconda3\\envs\\myenv\\Lib\\site-packages\\seaborn\\_oldcore.py:1498: FutureWarning: is_categorical_dtype is deprecated and will be removed in a future version. Use isinstance(dtype, CategoricalDtype) instead\n",
      "  if pd.api.types.is_categorical_dtype(vector):\n",
      "c:\\Users\\farzad.kashefini\\AppData\\Local\\miniconda3\\envs\\myenv\\Lib\\site-packages\\seaborn\\_oldcore.py:1498: FutureWarning: is_categorical_dtype is deprecated and will be removed in a future version. Use isinstance(dtype, CategoricalDtype) instead\n",
      "  if pd.api.types.is_categorical_dtype(vector):\n",
      "c:\\Users\\farzad.kashefini\\AppData\\Local\\miniconda3\\envs\\myenv\\Lib\\site-packages\\seaborn\\_oldcore.py:1498: FutureWarning: is_categorical_dtype is deprecated and will be removed in a future version. Use isinstance(dtype, CategoricalDtype) instead\n",
      "  if pd.api.types.is_categorical_dtype(vector):\n",
      "c:\\Users\\farzad.kashefini\\AppData\\Local\\miniconda3\\envs\\myenv\\Lib\\site-packages\\seaborn\\_oldcore.py:1498: FutureWarning: is_categorical_dtype is deprecated and will be removed in a future version. Use isinstance(dtype, CategoricalDtype) instead\n",
      "  if pd.api.types.is_categorical_dtype(vector):\n",
      "c:\\Users\\farzad.kashefini\\AppData\\Local\\miniconda3\\envs\\myenv\\Lib\\site-packages\\seaborn\\_oldcore.py:1498: FutureWarning: is_categorical_dtype is deprecated and will be removed in a future version. Use isinstance(dtype, CategoricalDtype) instead\n",
      "  if pd.api.types.is_categorical_dtype(vector):\n",
      "c:\\Users\\farzad.kashefini\\AppData\\Local\\miniconda3\\envs\\myenv\\Lib\\site-packages\\seaborn\\_oldcore.py:1119: FutureWarning: use_inf_as_na option is deprecated and will be removed in a future version. Convert inf values to NaN before operating instead.\n",
      "  with pd.option_context('mode.use_inf_as_na', True):\n",
      "c:\\Users\\farzad.kashefini\\AppData\\Local\\miniconda3\\envs\\myenv\\Lib\\site-packages\\seaborn\\_oldcore.py:1498: FutureWarning: is_categorical_dtype is deprecated and will be removed in a future version. Use isinstance(dtype, CategoricalDtype) instead\n",
      "  if pd.api.types.is_categorical_dtype(vector):\n",
      "c:\\Users\\farzad.kashefini\\AppData\\Local\\miniconda3\\envs\\myenv\\Lib\\site-packages\\seaborn\\_oldcore.py:1119: FutureWarning: use_inf_as_na option is deprecated and will be removed in a future version. Convert inf values to NaN before operating instead.\n",
      "  with pd.option_context('mode.use_inf_as_na', True):\n",
      "c:\\Users\\farzad.kashefini\\AppData\\Local\\miniconda3\\envs\\myenv\\Lib\\site-packages\\seaborn\\_oldcore.py:1498: FutureWarning: is_categorical_dtype is deprecated and will be removed in a future version. Use isinstance(dtype, CategoricalDtype) instead\n",
      "  if pd.api.types.is_categorical_dtype(vector):\n",
      "c:\\Users\\farzad.kashefini\\AppData\\Local\\miniconda3\\envs\\myenv\\Lib\\site-packages\\seaborn\\_oldcore.py:1119: FutureWarning: use_inf_as_na option is deprecated and will be removed in a future version. Convert inf values to NaN before operating instead.\n",
      "  with pd.option_context('mode.use_inf_as_na', True):\n",
      "c:\\Users\\farzad.kashefini\\AppData\\Local\\miniconda3\\envs\\myenv\\Lib\\site-packages\\seaborn\\_oldcore.py:1498: FutureWarning: is_categorical_dtype is deprecated and will be removed in a future version. Use isinstance(dtype, CategoricalDtype) instead\n",
      "  if pd.api.types.is_categorical_dtype(vector):\n",
      "c:\\Users\\farzad.kashefini\\AppData\\Local\\miniconda3\\envs\\myenv\\Lib\\site-packages\\seaborn\\_oldcore.py:1119: FutureWarning: use_inf_as_na option is deprecated and will be removed in a future version. Convert inf values to NaN before operating instead.\n",
      "  with pd.option_context('mode.use_inf_as_na', True):\n",
      "c:\\Users\\farzad.kashefini\\AppData\\Local\\miniconda3\\envs\\myenv\\Lib\\site-packages\\seaborn\\_oldcore.py:1498: FutureWarning: is_categorical_dtype is deprecated and will be removed in a future version. Use isinstance(dtype, CategoricalDtype) instead\n",
      "  if pd.api.types.is_categorical_dtype(vector):\n",
      "c:\\Users\\farzad.kashefini\\AppData\\Local\\miniconda3\\envs\\myenv\\Lib\\site-packages\\seaborn\\_oldcore.py:1119: FutureWarning: use_inf_as_na option is deprecated and will be removed in a future version. Convert inf values to NaN before operating instead.\n",
      "  with pd.option_context('mode.use_inf_as_na', True):\n",
      "c:\\Users\\farzad.kashefini\\AppData\\Local\\miniconda3\\envs\\myenv\\Lib\\site-packages\\seaborn\\_oldcore.py:1498: FutureWarning: is_categorical_dtype is deprecated and will be removed in a future version. Use isinstance(dtype, CategoricalDtype) instead\n",
      "  if pd.api.types.is_categorical_dtype(vector):\n",
      "c:\\Users\\farzad.kashefini\\AppData\\Local\\miniconda3\\envs\\myenv\\Lib\\site-packages\\seaborn\\_oldcore.py:1498: FutureWarning: is_categorical_dtype is deprecated and will be removed in a future version. Use isinstance(dtype, CategoricalDtype) instead\n",
      "  if pd.api.types.is_categorical_dtype(vector):\n",
      "c:\\Users\\farzad.kashefini\\AppData\\Local\\miniconda3\\envs\\myenv\\Lib\\site-packages\\seaborn\\_oldcore.py:1498: FutureWarning: is_categorical_dtype is deprecated and will be removed in a future version. Use isinstance(dtype, CategoricalDtype) instead\n",
      "  if pd.api.types.is_categorical_dtype(vector):\n",
      "c:\\Users\\farzad.kashefini\\AppData\\Local\\miniconda3\\envs\\myenv\\Lib\\site-packages\\seaborn\\_oldcore.py:1498: FutureWarning: is_categorical_dtype is deprecated and will be removed in a future version. Use isinstance(dtype, CategoricalDtype) instead\n",
      "  if pd.api.types.is_categorical_dtype(vector):\n",
      "c:\\Users\\farzad.kashefini\\AppData\\Local\\miniconda3\\envs\\myenv\\Lib\\site-packages\\seaborn\\_oldcore.py:1498: FutureWarning: is_categorical_dtype is deprecated and will be removed in a future version. Use isinstance(dtype, CategoricalDtype) instead\n",
      "  if pd.api.types.is_categorical_dtype(vector):\n",
      "c:\\Users\\farzad.kashefini\\AppData\\Local\\miniconda3\\envs\\myenv\\Lib\\site-packages\\seaborn\\_oldcore.py:1498: FutureWarning: is_categorical_dtype is deprecated and will be removed in a future version. Use isinstance(dtype, CategoricalDtype) instead\n",
      "  if pd.api.types.is_categorical_dtype(vector):\n",
      "c:\\Users\\farzad.kashefini\\AppData\\Local\\miniconda3\\envs\\myenv\\Lib\\site-packages\\seaborn\\_oldcore.py:1498: FutureWarning: is_categorical_dtype is deprecated and will be removed in a future version. Use isinstance(dtype, CategoricalDtype) instead\n",
      "  if pd.api.types.is_categorical_dtype(vector):\n",
      "c:\\Users\\farzad.kashefini\\AppData\\Local\\miniconda3\\envs\\myenv\\Lib\\site-packages\\seaborn\\_oldcore.py:1498: FutureWarning: is_categorical_dtype is deprecated and will be removed in a future version. Use isinstance(dtype, CategoricalDtype) instead\n",
      "  if pd.api.types.is_categorical_dtype(vector):\n",
      "c:\\Users\\farzad.kashefini\\AppData\\Local\\miniconda3\\envs\\myenv\\Lib\\site-packages\\seaborn\\_oldcore.py:1498: FutureWarning: is_categorical_dtype is deprecated and will be removed in a future version. Use isinstance(dtype, CategoricalDtype) instead\n",
      "  if pd.api.types.is_categorical_dtype(vector):\n",
      "c:\\Users\\farzad.kashefini\\AppData\\Local\\miniconda3\\envs\\myenv\\Lib\\site-packages\\seaborn\\_oldcore.py:1498: FutureWarning: is_categorical_dtype is deprecated and will be removed in a future version. Use isinstance(dtype, CategoricalDtype) instead\n",
      "  if pd.api.types.is_categorical_dtype(vector):\n",
      "c:\\Users\\farzad.kashefini\\AppData\\Local\\miniconda3\\envs\\myenv\\Lib\\site-packages\\seaborn\\_oldcore.py:1498: FutureWarning: is_categorical_dtype is deprecated and will be removed in a future version. Use isinstance(dtype, CategoricalDtype) instead\n",
      "  if pd.api.types.is_categorical_dtype(vector):\n",
      "c:\\Users\\farzad.kashefini\\AppData\\Local\\miniconda3\\envs\\myenv\\Lib\\site-packages\\seaborn\\_oldcore.py:1498: FutureWarning: is_categorical_dtype is deprecated and will be removed in a future version. Use isinstance(dtype, CategoricalDtype) instead\n",
      "  if pd.api.types.is_categorical_dtype(vector):\n",
      "c:\\Users\\farzad.kashefini\\AppData\\Local\\miniconda3\\envs\\myenv\\Lib\\site-packages\\seaborn\\_oldcore.py:1498: FutureWarning: is_categorical_dtype is deprecated and will be removed in a future version. Use isinstance(dtype, CategoricalDtype) instead\n",
      "  if pd.api.types.is_categorical_dtype(vector):\n",
      "c:\\Users\\farzad.kashefini\\AppData\\Local\\miniconda3\\envs\\myenv\\Lib\\site-packages\\seaborn\\_oldcore.py:1498: FutureWarning: is_categorical_dtype is deprecated and will be removed in a future version. Use isinstance(dtype, CategoricalDtype) instead\n",
      "  if pd.api.types.is_categorical_dtype(vector):\n",
      "c:\\Users\\farzad.kashefini\\AppData\\Local\\miniconda3\\envs\\myenv\\Lib\\site-packages\\seaborn\\_oldcore.py:1498: FutureWarning: is_categorical_dtype is deprecated and will be removed in a future version. Use isinstance(dtype, CategoricalDtype) instead\n",
      "  if pd.api.types.is_categorical_dtype(vector):\n",
      "c:\\Users\\farzad.kashefini\\AppData\\Local\\miniconda3\\envs\\myenv\\Lib\\site-packages\\seaborn\\_oldcore.py:1498: FutureWarning: is_categorical_dtype is deprecated and will be removed in a future version. Use isinstance(dtype, CategoricalDtype) instead\n",
      "  if pd.api.types.is_categorical_dtype(vector):\n",
      "c:\\Users\\farzad.kashefini\\AppData\\Local\\miniconda3\\envs\\myenv\\Lib\\site-packages\\seaborn\\_oldcore.py:1498: FutureWarning: is_categorical_dtype is deprecated and will be removed in a future version. Use isinstance(dtype, CategoricalDtype) instead\n",
      "  if pd.api.types.is_categorical_dtype(vector):\n",
      "c:\\Users\\farzad.kashefini\\AppData\\Local\\miniconda3\\envs\\myenv\\Lib\\site-packages\\seaborn\\_oldcore.py:1498: FutureWarning: is_categorical_dtype is deprecated and will be removed in a future version. Use isinstance(dtype, CategoricalDtype) instead\n",
      "  if pd.api.types.is_categorical_dtype(vector):\n",
      "c:\\Users\\farzad.kashefini\\AppData\\Local\\miniconda3\\envs\\myenv\\Lib\\site-packages\\seaborn\\_oldcore.py:1498: FutureWarning: is_categorical_dtype is deprecated and will be removed in a future version. Use isinstance(dtype, CategoricalDtype) instead\n",
      "  if pd.api.types.is_categorical_dtype(vector):\n",
      "c:\\Users\\farzad.kashefini\\AppData\\Local\\miniconda3\\envs\\myenv\\Lib\\site-packages\\seaborn\\_oldcore.py:1498: FutureWarning: is_categorical_dtype is deprecated and will be removed in a future version. Use isinstance(dtype, CategoricalDtype) instead\n",
      "  if pd.api.types.is_categorical_dtype(vector):\n",
      "c:\\Users\\farzad.kashefini\\AppData\\Local\\miniconda3\\envs\\myenv\\Lib\\site-packages\\seaborn\\_oldcore.py:1498: FutureWarning: is_categorical_dtype is deprecated and will be removed in a future version. Use isinstance(dtype, CategoricalDtype) instead\n",
      "  if pd.api.types.is_categorical_dtype(vector):\n",
      "c:\\Users\\farzad.kashefini\\AppData\\Local\\miniconda3\\envs\\myenv\\Lib\\site-packages\\seaborn\\_oldcore.py:1498: FutureWarning: is_categorical_dtype is deprecated and will be removed in a future version. Use isinstance(dtype, CategoricalDtype) instead\n",
      "  if pd.api.types.is_categorical_dtype(vector):\n",
      "c:\\Users\\farzad.kashefini\\AppData\\Local\\miniconda3\\envs\\myenv\\Lib\\site-packages\\seaborn\\_oldcore.py:1498: FutureWarning: is_categorical_dtype is deprecated and will be removed in a future version. Use isinstance(dtype, CategoricalDtype) instead\n",
      "  if pd.api.types.is_categorical_dtype(vector):\n",
      "c:\\Users\\farzad.kashefini\\AppData\\Local\\miniconda3\\envs\\myenv\\Lib\\site-packages\\seaborn\\_oldcore.py:1498: FutureWarning: is_categorical_dtype is deprecated and will be removed in a future version. Use isinstance(dtype, CategoricalDtype) instead\n",
      "  if pd.api.types.is_categorical_dtype(vector):\n",
      "c:\\Users\\farzad.kashefini\\AppData\\Local\\miniconda3\\envs\\myenv\\Lib\\site-packages\\seaborn\\_oldcore.py:1498: FutureWarning: is_categorical_dtype is deprecated and will be removed in a future version. Use isinstance(dtype, CategoricalDtype) instead\n",
      "  if pd.api.types.is_categorical_dtype(vector):\n",
      "c:\\Users\\farzad.kashefini\\AppData\\Local\\miniconda3\\envs\\myenv\\Lib\\site-packages\\seaborn\\_oldcore.py:1498: FutureWarning: is_categorical_dtype is deprecated and will be removed in a future version. Use isinstance(dtype, CategoricalDtype) instead\n",
      "  if pd.api.types.is_categorical_dtype(vector):\n",
      "c:\\Users\\farzad.kashefini\\AppData\\Local\\miniconda3\\envs\\myenv\\Lib\\site-packages\\seaborn\\_oldcore.py:1498: FutureWarning: is_categorical_dtype is deprecated and will be removed in a future version. Use isinstance(dtype, CategoricalDtype) instead\n",
      "  if pd.api.types.is_categorical_dtype(vector):\n",
      "c:\\Users\\farzad.kashefini\\AppData\\Local\\miniconda3\\envs\\myenv\\Lib\\site-packages\\seaborn\\_oldcore.py:1498: FutureWarning: is_categorical_dtype is deprecated and will be removed in a future version. Use isinstance(dtype, CategoricalDtype) instead\n",
      "  if pd.api.types.is_categorical_dtype(vector):\n",
      "c:\\Users\\farzad.kashefini\\AppData\\Local\\miniconda3\\envs\\myenv\\Lib\\site-packages\\seaborn\\_oldcore.py:1498: FutureWarning: is_categorical_dtype is deprecated and will be removed in a future version. Use isinstance(dtype, CategoricalDtype) instead\n",
      "  if pd.api.types.is_categorical_dtype(vector):\n",
      "c:\\Users\\farzad.kashefini\\AppData\\Local\\miniconda3\\envs\\myenv\\Lib\\site-packages\\seaborn\\_oldcore.py:1498: FutureWarning: is_categorical_dtype is deprecated and will be removed in a future version. Use isinstance(dtype, CategoricalDtype) instead\n",
      "  if pd.api.types.is_categorical_dtype(vector):\n",
      "c:\\Users\\farzad.kashefini\\AppData\\Local\\miniconda3\\envs\\myenv\\Lib\\site-packages\\seaborn\\_oldcore.py:1498: FutureWarning: is_categorical_dtype is deprecated and will be removed in a future version. Use isinstance(dtype, CategoricalDtype) instead\n",
      "  if pd.api.types.is_categorical_dtype(vector):\n",
      "c:\\Users\\farzad.kashefini\\AppData\\Local\\miniconda3\\envs\\myenv\\Lib\\site-packages\\seaborn\\_oldcore.py:1498: FutureWarning: is_categorical_dtype is deprecated and will be removed in a future version. Use isinstance(dtype, CategoricalDtype) instead\n",
      "  if pd.api.types.is_categorical_dtype(vector):\n",
      "c:\\Users\\farzad.kashefini\\AppData\\Local\\miniconda3\\envs\\myenv\\Lib\\site-packages\\seaborn\\_oldcore.py:1498: FutureWarning: is_categorical_dtype is deprecated and will be removed in a future version. Use isinstance(dtype, CategoricalDtype) instead\n",
      "  if pd.api.types.is_categorical_dtype(vector):\n",
      "c:\\Users\\farzad.kashefini\\AppData\\Local\\miniconda3\\envs\\myenv\\Lib\\site-packages\\seaborn\\_oldcore.py:1498: FutureWarning: is_categorical_dtype is deprecated and will be removed in a future version. Use isinstance(dtype, CategoricalDtype) instead\n",
      "  if pd.api.types.is_categorical_dtype(vector):\n",
      "c:\\Users\\farzad.kashefini\\AppData\\Local\\miniconda3\\envs\\myenv\\Lib\\site-packages\\seaborn\\_oldcore.py:1498: FutureWarning: is_categorical_dtype is deprecated and will be removed in a future version. Use isinstance(dtype, CategoricalDtype) instead\n",
      "  if pd.api.types.is_categorical_dtype(vector):\n",
      "c:\\Users\\farzad.kashefini\\AppData\\Local\\miniconda3\\envs\\myenv\\Lib\\site-packages\\seaborn\\_oldcore.py:1498: FutureWarning: is_categorical_dtype is deprecated and will be removed in a future version. Use isinstance(dtype, CategoricalDtype) instead\n",
      "  if pd.api.types.is_categorical_dtype(vector):\n",
      "c:\\Users\\farzad.kashefini\\AppData\\Local\\miniconda3\\envs\\myenv\\Lib\\site-packages\\seaborn\\_oldcore.py:1498: FutureWarning: is_categorical_dtype is deprecated and will be removed in a future version. Use isinstance(dtype, CategoricalDtype) instead\n",
      "  if pd.api.types.is_categorical_dtype(vector):\n",
      "c:\\Users\\farzad.kashefini\\AppData\\Local\\miniconda3\\envs\\myenv\\Lib\\site-packages\\seaborn\\_oldcore.py:1498: FutureWarning: is_categorical_dtype is deprecated and will be removed in a future version. Use isinstance(dtype, CategoricalDtype) instead\n",
      "  if pd.api.types.is_categorical_dtype(vector):\n",
      "c:\\Users\\farzad.kashefini\\AppData\\Local\\miniconda3\\envs\\myenv\\Lib\\site-packages\\seaborn\\_oldcore.py:1498: FutureWarning: is_categorical_dtype is deprecated and will be removed in a future version. Use isinstance(dtype, CategoricalDtype) instead\n",
      "  if pd.api.types.is_categorical_dtype(vector):\n",
      "c:\\Users\\farzad.kashefini\\AppData\\Local\\miniconda3\\envs\\myenv\\Lib\\site-packages\\seaborn\\_oldcore.py:1498: FutureWarning: is_categorical_dtype is deprecated and will be removed in a future version. Use isinstance(dtype, CategoricalDtype) instead\n",
      "  if pd.api.types.is_categorical_dtype(vector):\n"
     ]
    },
    {
     "data": {
      "image/png": "[encoded data removed]",
      "text/plain": [
       "<Figure size 1250x1250 with 30 Axes>"
      ]
     },
     "metadata": {},
     "output_type": "display_data"
    }
   ],
   "source": [
    "sns.pairplot(Edmonton_data)\n",
    "plt.show()"
   ]
  },
  {
   "cell_type": "code",
   "execution_count": null,
   "metadata": {},
   "outputs": [],
   "source": []
  }
 ],
 "metadata": {
  "kernelspec": {
   "display_name": "myenv",
   "language": "python",
   "name": "python3"
  },
  "language_info": {
   "codemirror_mode": {
    "name": "ipython",
    "version": 3
   },
   "file_extension": ".py",
   "mimetype": "text/x-python",
   "name": "python",
   "nbconvert_exporter": "python",
   "pygments_lexer": "ipython3",
   "version": "3.11.5"
  }
 },
 "nbformat": 4,
 "nbformat_minor": 2
}
